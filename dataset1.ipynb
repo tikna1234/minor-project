{
 "cells": [
  {
   "cell_type": "code",
   "execution_count": 1,
   "id": "d067e904",
   "metadata": {},
   "outputs": [
    {
     "name": "stdout",
     "output_type": "stream",
     "text": [
      "Student marks for 10000 students generated and saved in student_marks.csv.\n"
     ]
    }
   ],
   "source": [
    "import random\n",
    "import csv\n",
    "\n",
    "# Generating student marks for 10000 rows\n",
    "num_students = 10000\n",
    "min_mark = 40\n",
    "max_mark = 98\n",
    "\n",
    "# Create and write to CSV file\n",
    "with open(\"student_marks2.1.csv\", mode='w', newline='') as file:\n",
    "    writer = csv.writer(file)\n",
    "    writer.writerow([\"Student ID\", \"English\", \"Mathematics\", \"Science\", \"Social_Studies\", \"Logical_Reasoning\", \"Computer_Awareness\"])\n",
    "    for i in range(num_students):\n",
    "        English = random.randint(min_mark, max_mark)\n",
    "        Mathematics = random.randint(min_mark, max_mark)\n",
    "        Science = random.randint(min_mark, max_mark)\n",
    "        Social_Studies = random.randint(min_mark, max_mark)\n",
    "        Logical_Reasoning = random.randint(min_mark, max_mark)\n",
    "        Computer_Awareness = random.randint(min_mark, max_mark)\n",
    "        writer.writerow([i + 1, English, Mathematics, Science, Social_Studies, Logical_Reasoning, Computer_Awareness])\n",
    "\n",
    "print(f\"Student marks for {num_students} students generated and saved in student_marks.csv.\")"
   ]
  },
  {
   "cell_type": "code",
   "execution_count": null,
   "id": "cdb5f107",
   "metadata": {},
   "outputs": [],
   "source": []
  },
  {
   "cell_type": "code",
   "execution_count": 4,
   "id": "7e165336",
   "metadata": {},
   "outputs": [],
   "source": [
    "import openpyxl\n",
    "\n",
    "# Load the Excel file\n",
    "workbook = openpyxl.load_workbook('student_marksheet2.2.xlsx')\n",
    "\n",
    "# Select the specific sheet\n",
    "sheet = workbook['student_marksheet']\n",
    "\n",
    "# Accessing specific column and retrieving row numbers and cell values\n",
    "column_name = 'H'  # Replace with your desired column name\n",
    "for row in range(1, sheet.max_row + 1):\n",
    "    cell_value = sheet[f'{column_name}{row}'].value\n",
    "    if cell_value == \"DIPLOMA\":\n",
    "        print(f\"Row Number: {row}, Cell Value: {cell_value}\")\n"
   ]
  },
  {
   "cell_type": "code",
   "execution_count": 7,
   "id": "14aa6c36",
   "metadata": {},
   "outputs": [],
   "source": [
    "import openpyxl\n",
    "\n",
    "# Load the Excel file\n",
    "workbook = openpyxl.load_workbook('student_marksheet2.2.xlsx')\n",
    "\n",
    "# Select the specific sheet\n",
    "sheet = workbook['student_marksheet']\n",
    "\n",
    "# Accessing specific column and checking for cell values\n",
    "column_name = 'H'  # Replace with your desired column name\n",
    "for row in range(2, sheet.max_row + 1):\n",
    "    cell_value = sheet[f'{column_name}{row}'].value\n",
    "    if cell_value == \"DIPLOMA\":\n",
    "        print(f\"Row Number: {row}, Cell Value: {cell_value}\")\n",
    "    else:\n",
    "        continue;\n"
   ]
  },
  {
   "cell_type": "code",
   "execution_count": 9,
   "id": "59519a7f",
   "metadata": {},
   "outputs": [
    {
     "name": "stdout",
     "output_type": "stream",
     "text": [
      "CSV file created successfully!\n"
     ]
    }
   ],
   "source": [
    "import csv\n",
    "import random\n",
    "\n",
    "subjects = [\"English\", \"Mathematics\", \"Science\", \"Social Studies\", \"Logical Reasoning\", \"Computer Awareness\"]\n",
    "averages = [53, 51, 49, 47, 45, 43, 41]\n",
    "\n",
    "with open('vocational_marks3.0.csv', mode='w', newline='') as file:\n",
    "    writer = csv.writer(file)\n",
    "    writer.writerow(['Student'] + subjects)\n",
    "\n",
    "    for avg in averages:\n",
    "        for i in range(438):\n",
    "            marks = [random.randint(avg , avg+2) for _ in range(6)]\n",
    "            avg_marks=sum(marks)/6\n",
    "            if avg <= avg_marks < avg + 2:\n",
    "                writer.writerow([f'Student{i}'] + marks)\n",
    "    for i in range(438):\n",
    "        marks = [random.randint(40 , 41) for _ in range(6)]\n",
    "        avg_marks=sum(marks)/6\n",
    "        if 40 <= avg_marks < 41:\n",
    "            writer.writerow([f'Student{i}'] + marks)\n",
    "            \n",
    "\n",
    "print(\"CSV file created successfully!\")\n"
   ]
  },
  {
   "cell_type": "code",
   "execution_count": null,
   "id": "d0f7d58b",
   "metadata": {},
   "outputs": [],
   "source": [
    "import csv\n",
    "import random\n",
    "\n",
    "subjects = [\"English\", \"Mathematics\", \"Science\", \"Social Studies\", \"Logical Reasoning\", \"Computer Awareness\"]\n",
    "averages = [53, 51, 49, 47, 43, 41]\n",
    "\n",
    "with open('marks.csv', mode='w', newline='') as file:\n",
    "    writer = csv.writer(file)\n",
    "    writer.writerow(['Student'] + subjects)\n",
    "\n",
    "    for i in range(3500):\n",
    "        marks = [random.randint(40, 54) for _ in range(6)]\n",
    "        writer.writerow([f'Student{i+1}'] + marks)\n",
    "\n",
    "    for avg in averages:\n",
    "        marks = [random.randint(avg - 7, avg + 7) for _ in range(6)]\n",
    "        writer.writerow([f'Avg{avg}'] + marks)\n",
    "\n",
    "print(\"CSV file created successfully!\")\n"
   ]
  },
  {
   "cell_type": "code",
   "execution_count": 11,
   "id": "44dfc519",
   "metadata": {},
   "outputs": [
    {
     "name": "stdout",
     "output_type": "stream",
     "text": [
      "CSV dataset generated successfully.\n"
     ]
    }
   ],
   "source": [
    "import csv\n",
    "import random\n",
    "\n",
    "# Define the subjects and their corresponding criteria\n",
    "subjects = [\"English\", \"Mathematics\", \"Science\",\"Social Studies\",\"Logical Reasoning\", \"Computer Awareness\"]\n",
    "\n",
    "# Criteria for each set of marks\n",
    "criteria = [\n",
    "    {\"English\": (75, 80), \"Mathematics\": (80, 90), \"Science\": (80, 85),\"Social Studies\": (75, 80), \"Logical Reasoning\": (80, 85), \"Computer Awareness\": (85, 95)},\n",
    "    {\"English\": (75, 80), \"Mathematics\": (85, 95), \"Science\": (80, 90),\"Social Studies\": (75, 80), \"Logical Reasoning\": (80, 85), \"Computer Awareness\": (80, 85)},\n",
    "    {\"English\": (75, 80), \"Mathematics\": (80, 85), \"Science\": (80, 90),\"Social Studies\": (75, 80), \"Logical Reasoning\": (80, 85), \"Computer Awareness\": (85, 95)},\n",
    "    {\"English\": (75, 80), \"Mathematics\": (80, 85), \"Science\": (75, 80),\"Social Studies\": (80, 90), \"Logical Reasoning\": (85, 95), \"Computer Awareness\": (80, 85)},\n",
    "    {\"English\": (85, 95), \"Mathematics\": (80, 85), \"Science\": (75, 80),\"Social Studies\": (80, 90), \"Logical Reasoning\": (80, 85), \"Computer Awareness\": (80, 85)},\n",
    "    {\"English\": (80, 85), \"Mathematics\": (80, 85), \"Science\": (85, 95),\"Social Studies\": (75, 80), \"Logical Reasoning\": (80, 90), \"Computer Awareness\": (75, 80)},\n",
    "    {\"English\": (85, 95), \"Mathematics\": (75, 80), \"Science\": (80, 85),\"Social Studies\": (80, 90), \"Logical Reasoning\": (80, 85), \"Computer Awareness\": (80, 85)},\n",
    "    {\"English\": (80, 90), \"Mathematics\": (75, 80), \"Science\": (85, 95),\"Social Studies\": (75, 80), \"Logical Reasoning\": (80, 85), \"Computer Awareness\": (80, 85)},\n",
    "    {\"English\": (80, 85), \"Mathematics\": (80, 90), \"Science\": (75, 80),\"Social Studies\": (75, 80), \"Logical Reasoning\": (85, 95), \"Computer Awareness\": (80, 85)}\n",
    "]\n",
    "\n",
    "# Create and write data to the CSV file\n",
    "with open(\"diploma_marks1.csv\", \"w\", newline=\"\") as csvfile:\n",
    "    writer = csv.writer(csvfile)\n",
    "    \n",
    "    # Write the header row with subject names\n",
    "    writer.writerow([\"Student ID\"] + subjects)\n",
    "\n",
    "    # Generate 20 random records for each criteria\n",
    "    for i in range(334):\n",
    "        for criterion in criteria:\n",
    "            student_id = f\"Student_{i+1}_{criteria.index(criterion) + 1}\"\n",
    "            marks = {subject: random.randint(criterion[subject][0], criterion[subject][1]) for subject in subjects}\n",
    "            writer.writerow([student_id] + list(marks.values()))\n",
    "\n",
    "print(\"CSV dataset generated successfully.\")"
   ]
  },
  {
   "cell_type": "code",
   "execution_count": null,
   "id": "0eee9f12",
   "metadata": {},
   "outputs": [],
   "source": []
  }
 ],
 "metadata": {
  "kernelspec": {
   "display_name": "Python 3 (ipykernel)",
   "language": "python",
   "name": "python3"
  },
  "language_info": {
   "codemirror_mode": {
    "name": "ipython",
    "version": 3
   },
   "file_extension": ".py",
   "mimetype": "text/x-python",
   "name": "python",
   "nbconvert_exporter": "python",
   "pygments_lexer": "ipython3",
   "version": "3.9.7"
  }
 },
 "nbformat": 4,
 "nbformat_minor": 5
}
