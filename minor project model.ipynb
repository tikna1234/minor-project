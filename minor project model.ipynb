{
 "cells": [
  {
   "cell_type": "code",
   "execution_count": 106,
   "id": "9fa5cd1f",
   "metadata": {},
   "outputs": [],
   "source": [
    "import pandas as pd\n",
    "import numpy as np\n",
    "import pickle\n",
    "career = pd.read_csv(r\"C:\\Users\\HP\\Documents\\GitHub\\minor-project\\student_marksheet_final.data\")"
   ]
  },
  {
   "cell_type": "code",
   "execution_count": 107,
   "id": "c7dac90a",
   "metadata": {},
   "outputs": [
    {
     "data": {
      "text/html": [
       "<div>\n",
       "<style scoped>\n",
       "    .dataframe tbody tr th:only-of-type {\n",
       "        vertical-align: middle;\n",
       "    }\n",
       "\n",
       "    .dataframe tbody tr th {\n",
       "        vertical-align: top;\n",
       "    }\n",
       "\n",
       "    .dataframe thead th {\n",
       "        text-align: right;\n",
       "    }\n",
       "</style>\n",
       "<table border=\"1\" class=\"dataframe\">\n",
       "  <thead>\n",
       "    <tr style=\"text-align: right;\">\n",
       "      <th></th>\n",
       "      <th>Student ID</th>\n",
       "      <th>English</th>\n",
       "      <th>Mathematics</th>\n",
       "      <th>Science</th>\n",
       "      <th>Social Studies</th>\n",
       "      <th>Logical Reasoning</th>\n",
       "      <th>Computer Awareness</th>\n",
       "      <th>Courses</th>\n",
       "      <th>Interest</th>\n",
       "    </tr>\n",
       "  </thead>\n",
       "  <tbody>\n",
       "    <tr>\n",
       "      <th>0</th>\n",
       "      <td>Student_1_1</td>\n",
       "      <td>77</td>\n",
       "      <td>84</td>\n",
       "      <td>82</td>\n",
       "      <td>78</td>\n",
       "      <td>84</td>\n",
       "      <td>91</td>\n",
       "      <td>DIPLOMA</td>\n",
       "      <td>Computer Science and Information Technology</td>\n",
       "    </tr>\n",
       "    <tr>\n",
       "      <th>1</th>\n",
       "      <td>Student_1_2</td>\n",
       "      <td>75</td>\n",
       "      <td>93</td>\n",
       "      <td>85</td>\n",
       "      <td>75</td>\n",
       "      <td>83</td>\n",
       "      <td>84</td>\n",
       "      <td>DIPLOMA</td>\n",
       "      <td>Mechanical and Electrical</td>\n",
       "    </tr>\n",
       "    <tr>\n",
       "      <th>2</th>\n",
       "      <td>Student_1_3</td>\n",
       "      <td>78</td>\n",
       "      <td>80</td>\n",
       "      <td>85</td>\n",
       "      <td>80</td>\n",
       "      <td>81</td>\n",
       "      <td>87</td>\n",
       "      <td>DIPLOMA</td>\n",
       "      <td>Electronics and Communication</td>\n",
       "    </tr>\n",
       "    <tr>\n",
       "      <th>3</th>\n",
       "      <td>Student_1_4</td>\n",
       "      <td>79</td>\n",
       "      <td>82</td>\n",
       "      <td>75</td>\n",
       "      <td>81</td>\n",
       "      <td>87</td>\n",
       "      <td>80</td>\n",
       "      <td>DIPLOMA</td>\n",
       "      <td>Construction and Design</td>\n",
       "    </tr>\n",
       "    <tr>\n",
       "      <th>4</th>\n",
       "      <td>Student_1_5</td>\n",
       "      <td>92</td>\n",
       "      <td>81</td>\n",
       "      <td>80</td>\n",
       "      <td>80</td>\n",
       "      <td>83</td>\n",
       "      <td>85</td>\n",
       "      <td>DIPLOMA</td>\n",
       "      <td>Hospitality and Event Management</td>\n",
       "    </tr>\n",
       "    <tr>\n",
       "      <th>...</th>\n",
       "      <td>...</td>\n",
       "      <td>...</td>\n",
       "      <td>...</td>\n",
       "      <td>...</td>\n",
       "      <td>...</td>\n",
       "      <td>...</td>\n",
       "      <td>...</td>\n",
       "      <td>...</td>\n",
       "      <td>...</td>\n",
       "    </tr>\n",
       "    <tr>\n",
       "      <th>9999</th>\n",
       "      <td>Student433</td>\n",
       "      <td>40</td>\n",
       "      <td>41</td>\n",
       "      <td>40</td>\n",
       "      <td>40</td>\n",
       "      <td>41</td>\n",
       "      <td>40</td>\n",
       "      <td>VOCATIONAL</td>\n",
       "      <td>Culinary Studies and Cooking</td>\n",
       "    </tr>\n",
       "    <tr>\n",
       "      <th>10000</th>\n",
       "      <td>Student434</td>\n",
       "      <td>41</td>\n",
       "      <td>40</td>\n",
       "      <td>40</td>\n",
       "      <td>40</td>\n",
       "      <td>41</td>\n",
       "      <td>41</td>\n",
       "      <td>VOCATIONAL</td>\n",
       "      <td>Culinary Studies and Cooking</td>\n",
       "    </tr>\n",
       "    <tr>\n",
       "      <th>10001</th>\n",
       "      <td>Student435</td>\n",
       "      <td>41</td>\n",
       "      <td>40</td>\n",
       "      <td>41</td>\n",
       "      <td>41</td>\n",
       "      <td>40</td>\n",
       "      <td>40</td>\n",
       "      <td>VOCATIONAL</td>\n",
       "      <td>Culinary Studies and Cooking</td>\n",
       "    </tr>\n",
       "    <tr>\n",
       "      <th>10002</th>\n",
       "      <td>Student436</td>\n",
       "      <td>40</td>\n",
       "      <td>40</td>\n",
       "      <td>41</td>\n",
       "      <td>41</td>\n",
       "      <td>40</td>\n",
       "      <td>41</td>\n",
       "      <td>VOCATIONAL</td>\n",
       "      <td>Culinary Studies and Cooking</td>\n",
       "    </tr>\n",
       "    <tr>\n",
       "      <th>10003</th>\n",
       "      <td>Student437</td>\n",
       "      <td>41</td>\n",
       "      <td>41</td>\n",
       "      <td>40</td>\n",
       "      <td>41</td>\n",
       "      <td>40</td>\n",
       "      <td>41</td>\n",
       "      <td>VOCATIONAL</td>\n",
       "      <td>Culinary Studies and Cooking</td>\n",
       "    </tr>\n",
       "  </tbody>\n",
       "</table>\n",
       "<p>10004 rows × 9 columns</p>\n",
       "</div>"
      ],
      "text/plain": [
       "        Student ID  English  Mathematics  Science  Social Studies  \\\n",
       "0      Student_1_1       77           84       82              78   \n",
       "1      Student_1_2       75           93       85              75   \n",
       "2      Student_1_3       78           80       85              80   \n",
       "3      Student_1_4       79           82       75              81   \n",
       "4      Student_1_5       92           81       80              80   \n",
       "...            ...      ...          ...      ...             ...   \n",
       "9999    Student433       40           41       40              40   \n",
       "10000   Student434       41           40       40              40   \n",
       "10001   Student435       41           40       41              41   \n",
       "10002   Student436       40           40       41              41   \n",
       "10003   Student437       41           41       40              41   \n",
       "\n",
       "       Logical Reasoning  Computer Awareness     Courses  \\\n",
       "0                     84                  91     DIPLOMA   \n",
       "1                     83                  84     DIPLOMA   \n",
       "2                     81                  87     DIPLOMA   \n",
       "3                     87                  80     DIPLOMA   \n",
       "4                     83                  85     DIPLOMA   \n",
       "...                  ...                 ...         ...   \n",
       "9999                  41                  40  VOCATIONAL   \n",
       "10000                 41                  41  VOCATIONAL   \n",
       "10001                 40                  40  VOCATIONAL   \n",
       "10002                 40                  41  VOCATIONAL   \n",
       "10003                 40                  41  VOCATIONAL   \n",
       "\n",
       "                                          Interest  \n",
       "0      Computer Science and Information Technology  \n",
       "1                        Mechanical and Electrical  \n",
       "2                    Electronics and Communication  \n",
       "3                          Construction and Design  \n",
       "4                 Hospitality and Event Management  \n",
       "...                                            ...  \n",
       "9999                  Culinary Studies and Cooking  \n",
       "10000                 Culinary Studies and Cooking  \n",
       "10001                 Culinary Studies and Cooking  \n",
       "10002                 Culinary Studies and Cooking  \n",
       "10003                 Culinary Studies and Cooking  \n",
       "\n",
       "[10004 rows x 9 columns]"
      ]
     },
     "execution_count": 107,
     "metadata": {},
     "output_type": "execute_result"
    }
   ],
   "source": [
    "career"
   ]
  },
  {
   "cell_type": "code",
   "execution_count": 108,
   "id": "17ec7de8",
   "metadata": {},
   "outputs": [],
   "source": [
    "from sklearn.preprocessing import LabelEncoder\n",
    "label_encoder = LabelEncoder()\n",
    "career['Courses'] = label_encoder.fit_transform(career['Courses'])\n",
    "x = np.array(career.iloc[:, 1:8])"
   ]
  },
  {
   "cell_type": "code",
   "execution_count": 109,
   "id": "1b11b62a",
   "metadata": {},
   "outputs": [
    {
     "data": {
      "text/plain": [
       "array([[77, 84, 82, ..., 84, 91,  0],\n",
       "       [75, 93, 85, ..., 83, 84,  0],\n",
       "       [78, 80, 85, ..., 81, 87,  0],\n",
       "       ...,\n",
       "       [41, 40, 41, ..., 40, 40,  2],\n",
       "       [40, 40, 41, ..., 40, 41,  2],\n",
       "       [41, 41, 40, ..., 40, 41,  2]], dtype=int64)"
      ]
     },
     "execution_count": 109,
     "metadata": {},
     "output_type": "execute_result"
    }
   ],
   "source": [
    "x"
   ]
  },
  {
   "cell_type": "code",
   "execution_count": 110,
   "id": "8055a4c0",
   "metadata": {},
   "outputs": [],
   "source": [
    "y = np.array(career.iloc[:, 8])"
   ]
  },
  {
   "cell_type": "code",
   "execution_count": 111,
   "id": "3eaa1463",
   "metadata": {},
   "outputs": [
    {
     "data": {
      "text/plain": [
       "array(['Computer Science and Information Technology',\n",
       "       'Mechanical and Electrical', 'Electronics and Communication', ...,\n",
       "       'Culinary Studies and Cooking', 'Culinary Studies and Cooking',\n",
       "       'Culinary Studies and Cooking'], dtype=object)"
      ]
     },
     "execution_count": 111,
     "metadata": {},
     "output_type": "execute_result"
    }
   ],
   "source": [
    "y"
   ]
  },
  {
   "cell_type": "code",
   "execution_count": 112,
   "id": "38b1efbb",
   "metadata": {},
   "outputs": [
    {
     "data": {
      "text/plain": [
       "Index(['Student ID', 'English', 'Mathematics', 'Science', 'Social Studies',\n",
       "       'Logical Reasoning', 'Computer Awareness', 'Courses', 'Interest'],\n",
       "      dtype='object')"
      ]
     },
     "execution_count": 112,
     "metadata": {},
     "output_type": "execute_result"
    }
   ],
   "source": [
    "career.columns"
   ]
  },
  {
   "cell_type": "code",
   "execution_count": 113,
   "id": "84e0117e",
   "metadata": {},
   "outputs": [
    {
     "data": {
      "text/html": [
       "<div>\n",
       "<style scoped>\n",
       "    .dataframe tbody tr th:only-of-type {\n",
       "        vertical-align: middle;\n",
       "    }\n",
       "\n",
       "    .dataframe tbody tr th {\n",
       "        vertical-align: top;\n",
       "    }\n",
       "\n",
       "    .dataframe thead th {\n",
       "        text-align: right;\n",
       "    }\n",
       "</style>\n",
       "<table border=\"1\" class=\"dataframe\">\n",
       "  <thead>\n",
       "    <tr style=\"text-align: right;\">\n",
       "      <th></th>\n",
       "      <th>Student ID</th>\n",
       "      <th>English</th>\n",
       "      <th>Mathematics</th>\n",
       "      <th>Science</th>\n",
       "      <th>Social Studies</th>\n",
       "      <th>Logical Reasoning</th>\n",
       "      <th>Computer Awareness</th>\n",
       "      <th>Courses</th>\n",
       "      <th>Interest</th>\n",
       "    </tr>\n",
       "  </thead>\n",
       "  <tbody>\n",
       "    <tr>\n",
       "      <th>0</th>\n",
       "      <td>Student_1_1</td>\n",
       "      <td>77</td>\n",
       "      <td>84</td>\n",
       "      <td>82</td>\n",
       "      <td>78</td>\n",
       "      <td>84</td>\n",
       "      <td>91</td>\n",
       "      <td>0</td>\n",
       "      <td>Computer Science and Information Technology</td>\n",
       "    </tr>\n",
       "    <tr>\n",
       "      <th>1</th>\n",
       "      <td>Student_1_2</td>\n",
       "      <td>75</td>\n",
       "      <td>93</td>\n",
       "      <td>85</td>\n",
       "      <td>75</td>\n",
       "      <td>83</td>\n",
       "      <td>84</td>\n",
       "      <td>0</td>\n",
       "      <td>Mechanical and Electrical</td>\n",
       "    </tr>\n",
       "    <tr>\n",
       "      <th>2</th>\n",
       "      <td>Student_1_3</td>\n",
       "      <td>78</td>\n",
       "      <td>80</td>\n",
       "      <td>85</td>\n",
       "      <td>80</td>\n",
       "      <td>81</td>\n",
       "      <td>87</td>\n",
       "      <td>0</td>\n",
       "      <td>Electronics and Communication</td>\n",
       "    </tr>\n",
       "    <tr>\n",
       "      <th>3</th>\n",
       "      <td>Student_1_4</td>\n",
       "      <td>79</td>\n",
       "      <td>82</td>\n",
       "      <td>75</td>\n",
       "      <td>81</td>\n",
       "      <td>87</td>\n",
       "      <td>80</td>\n",
       "      <td>0</td>\n",
       "      <td>Construction and Design</td>\n",
       "    </tr>\n",
       "    <tr>\n",
       "      <th>4</th>\n",
       "      <td>Student_1_5</td>\n",
       "      <td>92</td>\n",
       "      <td>81</td>\n",
       "      <td>80</td>\n",
       "      <td>80</td>\n",
       "      <td>83</td>\n",
       "      <td>85</td>\n",
       "      <td>0</td>\n",
       "      <td>Hospitality and Event Management</td>\n",
       "    </tr>\n",
       "  </tbody>\n",
       "</table>\n",
       "</div>"
      ],
      "text/plain": [
       "    Student ID  English  Mathematics  Science  Social Studies  \\\n",
       "0  Student_1_1       77           84       82              78   \n",
       "1  Student_1_2       75           93       85              75   \n",
       "2  Student_1_3       78           80       85              80   \n",
       "3  Student_1_4       79           82       75              81   \n",
       "4  Student_1_5       92           81       80              80   \n",
       "\n",
       "   Logical Reasoning  Computer Awareness  Courses  \\\n",
       "0                 84                  91        0   \n",
       "1                 83                  84        0   \n",
       "2                 81                  87        0   \n",
       "3                 87                  80        0   \n",
       "4                 83                  85        0   \n",
       "\n",
       "                                      Interest  \n",
       "0  Computer Science and Information Technology  \n",
       "1                    Mechanical and Electrical  \n",
       "2                Electronics and Communication  \n",
       "3                      Construction and Design  \n",
       "4             Hospitality and Event Management  "
      ]
     },
     "execution_count": 113,
     "metadata": {},
     "output_type": "execute_result"
    }
   ],
   "source": [
    "career.head()"
   ]
  },
  {
   "cell_type": "code",
   "execution_count": 114,
   "id": "70e754f6",
   "metadata": {},
   "outputs": [],
   "source": [
    "from sklearn.model_selection import train_test_split \n",
    "x_train, x_test, y_train, y_test = train_test_split(x, y,test_size = 0.3, random_state = 524)"
   ]
  },
  {
   "cell_type": "code",
   "execution_count": 118,
   "id": "bb273637",
   "metadata": {},
   "outputs": [
    {
     "data": {
      "text/plain": [
       "array([[42, 41, 42, ..., 43, 41,  2],\n",
       "       [53, 53, 52, ..., 52, 52,  2],\n",
       "       [51, 51, 53, ..., 51, 53,  2],\n",
       "       ...,\n",
       "       [80, 80, 89, ..., 80, 79,  0],\n",
       "       [60, 74, 73, ..., 66, 66,  1],\n",
       "       [76, 93, 81, ..., 82, 84,  0]], dtype=int64)"
      ]
     },
     "execution_count": 118,
     "metadata": {},
     "output_type": "execute_result"
    }
   ],
   "source": [
    "x_train"
   ]
  },
  {
   "cell_type": "code",
   "execution_count": 149,
   "id": "c31e98a2",
   "metadata": {},
   "outputs": [
    {
     "name": "stdout",
     "output_type": "stream",
     "text": [
      "Accuracy= 97.00199866755497\n"
     ]
    }
   ],
   "source": [
    "from sklearn.neighbors import KNeighborsClassifier\n",
    "from sklearn import metrics\n",
    "scores = {}\n",
    "knn = KNeighborsClassifier(n_neighbors=9)\n",
    "\n",
    "knn.fit(x_train, y_train)\n",
    "y_pred = knn.predict(x_test)\n",
    "scores[5] = metrics.accuracy_score(y_test, y_pred)\n",
    "print('Accuracy=',scores[5]*100)"
   ]
  },
  {
   "cell_type": "code",
   "execution_count": null,
   "id": "975e1fa4",
   "metadata": {},
   "outputs": [],
   "source": []
  }
 ],
 "metadata": {
  "kernelspec": {
   "display_name": "Python 3 (ipykernel)",
   "language": "python",
   "name": "python3"
  },
  "language_info": {
   "codemirror_mode": {
    "name": "ipython",
    "version": 3
   },
   "file_extension": ".py",
   "mimetype": "text/x-python",
   "name": "python",
   "nbconvert_exporter": "python",
   "pygments_lexer": "ipython3",
   "version": "3.11.3"
  }
 },
 "nbformat": 4,
 "nbformat_minor": 5
}
