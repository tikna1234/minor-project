{
 "cells": [
  {
   "cell_type": "code",
   "execution_count": 18,
   "id": "9fa5cd1f",
   "metadata": {},
   "outputs": [],
   "source": [
    "import pandas as pd\n",
    "import numpy as np\n",
    "import pickle\n",
    "career = pd.read_excel(r\"G:\\minor-project\\Datasets\\student_marksheet_final3.xlsx\")\n"
   ]
  },
  {
   "cell_type": "code",
   "execution_count": 19,
   "id": "c7dac90a",
   "metadata": {},
   "outputs": [
    {
     "data": {
      "text/html": [
       "<div>\n",
       "<style scoped>\n",
       "    .dataframe tbody tr th:only-of-type {\n",
       "        vertical-align: middle;\n",
       "    }\n",
       "\n",
       "    .dataframe tbody tr th {\n",
       "        vertical-align: top;\n",
       "    }\n",
       "\n",
       "    .dataframe thead th {\n",
       "        text-align: right;\n",
       "    }\n",
       "</style>\n",
       "<table border=\"1\" class=\"dataframe\">\n",
       "  <thead>\n",
       "    <tr style=\"text-align: right;\">\n",
       "      <th></th>\n",
       "      <th>Student ID</th>\n",
       "      <th>English</th>\n",
       "      <th>Mathematics</th>\n",
       "      <th>Science</th>\n",
       "      <th>Social Studies</th>\n",
       "      <th>Logical Reasoning</th>\n",
       "      <th>Computer Awareness</th>\n",
       "      <th>Branch</th>\n",
       "      <th>Course</th>\n",
       "    </tr>\n",
       "  </thead>\n",
       "  <tbody>\n",
       "    <tr>\n",
       "      <th>0</th>\n",
       "      <td>Student_1_1</td>\n",
       "      <td>85</td>\n",
       "      <td>88</td>\n",
       "      <td>86</td>\n",
       "      <td>69</td>\n",
       "      <td>75</td>\n",
       "      <td>94</td>\n",
       "      <td>Diploma</td>\n",
       "      <td>Computer Science and Information Technology (D...</td>\n",
       "    </tr>\n",
       "    <tr>\n",
       "      <th>1</th>\n",
       "      <td>Student_1_2</td>\n",
       "      <td>84</td>\n",
       "      <td>93</td>\n",
       "      <td>90</td>\n",
       "      <td>47</td>\n",
       "      <td>80</td>\n",
       "      <td>89</td>\n",
       "      <td>Diploma</td>\n",
       "      <td>Mechanical and Electrical (Diploma)</td>\n",
       "    </tr>\n",
       "    <tr>\n",
       "      <th>2</th>\n",
       "      <td>Student_1_3</td>\n",
       "      <td>75</td>\n",
       "      <td>80</td>\n",
       "      <td>81</td>\n",
       "      <td>54</td>\n",
       "      <td>80</td>\n",
       "      <td>91</td>\n",
       "      <td>Diploma</td>\n",
       "      <td>Electronics and Communication (Diploma)</td>\n",
       "    </tr>\n",
       "    <tr>\n",
       "      <th>3</th>\n",
       "      <td>Student_1_4</td>\n",
       "      <td>82</td>\n",
       "      <td>89</td>\n",
       "      <td>85</td>\n",
       "      <td>95</td>\n",
       "      <td>83</td>\n",
       "      <td>87</td>\n",
       "      <td>Diploma</td>\n",
       "      <td>Construction and Design (Diploma)</td>\n",
       "    </tr>\n",
       "    <tr>\n",
       "      <th>4</th>\n",
       "      <td>Student_1_5</td>\n",
       "      <td>84</td>\n",
       "      <td>75</td>\n",
       "      <td>74</td>\n",
       "      <td>84</td>\n",
       "      <td>78</td>\n",
       "      <td>83</td>\n",
       "      <td>Diploma</td>\n",
       "      <td>Hospitality and Event Management (Diploma)</td>\n",
       "    </tr>\n",
       "    <tr>\n",
       "      <th>...</th>\n",
       "      <td>...</td>\n",
       "      <td>...</td>\n",
       "      <td>...</td>\n",
       "      <td>...</td>\n",
       "      <td>...</td>\n",
       "      <td>...</td>\n",
       "      <td>...</td>\n",
       "      <td>...</td>\n",
       "      <td>...</td>\n",
       "    </tr>\n",
       "    <tr>\n",
       "      <th>9995</th>\n",
       "      <td>Student_437_8</td>\n",
       "      <td>35</td>\n",
       "      <td>38</td>\n",
       "      <td>35</td>\n",
       "      <td>38</td>\n",
       "      <td>37</td>\n",
       "      <td>35</td>\n",
       "      <td>Vocational</td>\n",
       "      <td>Culinary Studies and Cooking</td>\n",
       "    </tr>\n",
       "    <tr>\n",
       "      <th>9996</th>\n",
       "      <td>Student_438_1</td>\n",
       "      <td>40</td>\n",
       "      <td>50</td>\n",
       "      <td>48</td>\n",
       "      <td>45</td>\n",
       "      <td>43</td>\n",
       "      <td>45</td>\n",
       "      <td>Vocational</td>\n",
       "      <td>Computer Science and Information Technology</td>\n",
       "    </tr>\n",
       "    <tr>\n",
       "      <th>9997</th>\n",
       "      <td>Student_438_2</td>\n",
       "      <td>55</td>\n",
       "      <td>50</td>\n",
       "      <td>50</td>\n",
       "      <td>38</td>\n",
       "      <td>47</td>\n",
       "      <td>50</td>\n",
       "      <td>Vocational</td>\n",
       "      <td>Mechanical and Electrical</td>\n",
       "    </tr>\n",
       "    <tr>\n",
       "      <th>9998</th>\n",
       "      <td>Student_438_3</td>\n",
       "      <td>51</td>\n",
       "      <td>47</td>\n",
       "      <td>45</td>\n",
       "      <td>52</td>\n",
       "      <td>53</td>\n",
       "      <td>42</td>\n",
       "      <td>Vocational</td>\n",
       "      <td>Construction and Design</td>\n",
       "    </tr>\n",
       "    <tr>\n",
       "      <th>9999</th>\n",
       "      <td>Student_438_4</td>\n",
       "      <td>51</td>\n",
       "      <td>43</td>\n",
       "      <td>45</td>\n",
       "      <td>50</td>\n",
       "      <td>47</td>\n",
       "      <td>46</td>\n",
       "      <td>Vocational</td>\n",
       "      <td>Hospitality and Event Management</td>\n",
       "    </tr>\n",
       "  </tbody>\n",
       "</table>\n",
       "<p>10000 rows × 9 columns</p>\n",
       "</div>"
      ],
      "text/plain": [
       "         Student ID  English  Mathematics  Science  Social Studies  \\\n",
       "0       Student_1_1       85           88       86              69   \n",
       "1       Student_1_2       84           93       90              47   \n",
       "2       Student_1_3       75           80       81              54   \n",
       "3       Student_1_4       82           89       85              95   \n",
       "4       Student_1_5       84           75       74              84   \n",
       "...             ...      ...          ...      ...             ...   \n",
       "9995  Student_437_8       35           38       35              38   \n",
       "9996  Student_438_1       40           50       48              45   \n",
       "9997  Student_438_2       55           50       50              38   \n",
       "9998  Student_438_3       51           47       45              52   \n",
       "9999  Student_438_4       51           43       45              50   \n",
       "\n",
       "      Logical Reasoning  Computer Awareness      Branch  \\\n",
       "0                    75                  94     Diploma   \n",
       "1                    80                  89     Diploma   \n",
       "2                    80                  91     Diploma   \n",
       "3                    83                  87     Diploma   \n",
       "4                    78                  83     Diploma   \n",
       "...                 ...                 ...         ...   \n",
       "9995                 37                  35  Vocational   \n",
       "9996                 43                  45  Vocational   \n",
       "9997                 47                  50  Vocational   \n",
       "9998                 53                  42  Vocational   \n",
       "9999                 47                  46  Vocational   \n",
       "\n",
       "                                                 Course  \n",
       "0     Computer Science and Information Technology (D...  \n",
       "1                   Mechanical and Electrical (Diploma)  \n",
       "2               Electronics and Communication (Diploma)  \n",
       "3                     Construction and Design (Diploma)  \n",
       "4            Hospitality and Event Management (Diploma)  \n",
       "...                                                 ...  \n",
       "9995                       Culinary Studies and Cooking  \n",
       "9996        Computer Science and Information Technology  \n",
       "9997                          Mechanical and Electrical  \n",
       "9998                            Construction and Design  \n",
       "9999                   Hospitality and Event Management  \n",
       "\n",
       "[10000 rows x 9 columns]"
      ]
     },
     "execution_count": 19,
     "metadata": {},
     "output_type": "execute_result"
    }
   ],
   "source": [
    "career"
   ]
  },
  {
   "cell_type": "code",
   "execution_count": 20,
   "id": "17ec7de8",
   "metadata": {},
   "outputs": [],
   "source": [
    "from sklearn.preprocessing import LabelEncoder\n",
    "label_encoder = LabelEncoder()\n",
    "career['Branch'] = label_encoder.fit_transform(career['Branch'])\n",
    "x = np.array(career.iloc[:, 1:8])"
   ]
  },
  {
   "cell_type": "code",
   "execution_count": 21,
   "id": "1b11b62a",
   "metadata": {},
   "outputs": [
    {
     "data": {
      "text/plain": [
       "array([[85, 88, 86, ..., 75, 94,  0],\n",
       "       [84, 93, 90, ..., 80, 89,  0],\n",
       "       [75, 80, 81, ..., 80, 91,  0],\n",
       "       ...,\n",
       "       [55, 50, 50, ..., 47, 50,  2],\n",
       "       [51, 47, 45, ..., 53, 42,  2],\n",
       "       [51, 43, 45, ..., 47, 46,  2]], dtype=int64)"
      ]
     },
     "execution_count": 21,
     "metadata": {},
     "output_type": "execute_result"
    }
   ],
   "source": [
    "x"
   ]
  },
  {
   "cell_type": "code",
   "execution_count": 22,
   "id": "8055a4c0",
   "metadata": {},
   "outputs": [],
   "source": [
    "y = np.array(career.iloc[:, 8])"
   ]
  },
  {
   "cell_type": "code",
   "execution_count": 23,
   "id": "3eaa1463",
   "metadata": {},
   "outputs": [
    {
     "data": {
      "text/plain": [
       "array(['Computer Science and Information Technology (Diploma)',\n",
       "       'Mechanical and Electrical (Diploma)',\n",
       "       'Electronics and Communication (Diploma)', ...,\n",
       "       'Mechanical and Electrical', 'Construction and Design',\n",
       "       'Hospitality and Event Management'], dtype=object)"
      ]
     },
     "execution_count": 23,
     "metadata": {},
     "output_type": "execute_result"
    }
   ],
   "source": [
    "y"
   ]
  },
  {
   "cell_type": "code",
   "execution_count": 24,
   "id": "38b1efbb",
   "metadata": {},
   "outputs": [
    {
     "data": {
      "text/plain": [
       "Index(['Student ID', 'English', 'Mathematics', 'Science', 'Social Studies',\n",
       "       'Logical Reasoning', 'Computer Awareness', 'Branch', 'Course'],\n",
       "      dtype='object')"
      ]
     },
     "execution_count": 24,
     "metadata": {},
     "output_type": "execute_result"
    }
   ],
   "source": [
    "career.columns"
   ]
  },
  {
   "cell_type": "code",
   "execution_count": 25,
   "id": "84e0117e",
   "metadata": {},
   "outputs": [
    {
     "data": {
      "text/html": [
       "<div>\n",
       "<style scoped>\n",
       "    .dataframe tbody tr th:only-of-type {\n",
       "        vertical-align: middle;\n",
       "    }\n",
       "\n",
       "    .dataframe tbody tr th {\n",
       "        vertical-align: top;\n",
       "    }\n",
       "\n",
       "    .dataframe thead th {\n",
       "        text-align: right;\n",
       "    }\n",
       "</style>\n",
       "<table border=\"1\" class=\"dataframe\">\n",
       "  <thead>\n",
       "    <tr style=\"text-align: right;\">\n",
       "      <th></th>\n",
       "      <th>Student ID</th>\n",
       "      <th>English</th>\n",
       "      <th>Mathematics</th>\n",
       "      <th>Science</th>\n",
       "      <th>Social Studies</th>\n",
       "      <th>Logical Reasoning</th>\n",
       "      <th>Computer Awareness</th>\n",
       "      <th>Branch</th>\n",
       "      <th>Course</th>\n",
       "    </tr>\n",
       "  </thead>\n",
       "  <tbody>\n",
       "    <tr>\n",
       "      <th>0</th>\n",
       "      <td>Student_1_1</td>\n",
       "      <td>85</td>\n",
       "      <td>88</td>\n",
       "      <td>86</td>\n",
       "      <td>69</td>\n",
       "      <td>75</td>\n",
       "      <td>94</td>\n",
       "      <td>0</td>\n",
       "      <td>Computer Science and Information Technology (D...</td>\n",
       "    </tr>\n",
       "    <tr>\n",
       "      <th>1</th>\n",
       "      <td>Student_1_2</td>\n",
       "      <td>84</td>\n",
       "      <td>93</td>\n",
       "      <td>90</td>\n",
       "      <td>47</td>\n",
       "      <td>80</td>\n",
       "      <td>89</td>\n",
       "      <td>0</td>\n",
       "      <td>Mechanical and Electrical (Diploma)</td>\n",
       "    </tr>\n",
       "    <tr>\n",
       "      <th>2</th>\n",
       "      <td>Student_1_3</td>\n",
       "      <td>75</td>\n",
       "      <td>80</td>\n",
       "      <td>81</td>\n",
       "      <td>54</td>\n",
       "      <td>80</td>\n",
       "      <td>91</td>\n",
       "      <td>0</td>\n",
       "      <td>Electronics and Communication (Diploma)</td>\n",
       "    </tr>\n",
       "    <tr>\n",
       "      <th>3</th>\n",
       "      <td>Student_1_4</td>\n",
       "      <td>82</td>\n",
       "      <td>89</td>\n",
       "      <td>85</td>\n",
       "      <td>95</td>\n",
       "      <td>83</td>\n",
       "      <td>87</td>\n",
       "      <td>0</td>\n",
       "      <td>Construction and Design (Diploma)</td>\n",
       "    </tr>\n",
       "    <tr>\n",
       "      <th>4</th>\n",
       "      <td>Student_1_5</td>\n",
       "      <td>84</td>\n",
       "      <td>75</td>\n",
       "      <td>74</td>\n",
       "      <td>84</td>\n",
       "      <td>78</td>\n",
       "      <td>83</td>\n",
       "      <td>0</td>\n",
       "      <td>Hospitality and Event Management (Diploma)</td>\n",
       "    </tr>\n",
       "  </tbody>\n",
       "</table>\n",
       "</div>"
      ],
      "text/plain": [
       "    Student ID  English  Mathematics  Science  Social Studies  \\\n",
       "0  Student_1_1       85           88       86              69   \n",
       "1  Student_1_2       84           93       90              47   \n",
       "2  Student_1_3       75           80       81              54   \n",
       "3  Student_1_4       82           89       85              95   \n",
       "4  Student_1_5       84           75       74              84   \n",
       "\n",
       "   Logical Reasoning  Computer Awareness  Branch  \\\n",
       "0                 75                  94       0   \n",
       "1                 80                  89       0   \n",
       "2                 80                  91       0   \n",
       "3                 83                  87       0   \n",
       "4                 78                  83       0   \n",
       "\n",
       "                                              Course  \n",
       "0  Computer Science and Information Technology (D...  \n",
       "1                Mechanical and Electrical (Diploma)  \n",
       "2            Electronics and Communication (Diploma)  \n",
       "3                  Construction and Design (Diploma)  \n",
       "4         Hospitality and Event Management (Diploma)  "
      ]
     },
     "execution_count": 25,
     "metadata": {},
     "output_type": "execute_result"
    }
   ],
   "source": [
    "career.head()"
   ]
  },
  {
   "cell_type": "code",
   "execution_count": 26,
   "id": "70e754f6",
   "metadata": {},
   "outputs": [],
   "source": [
    "from sklearn.model_selection import train_test_split \n",
    "x_train, x_test, y_train, y_test = train_test_split(x, y,test_size = 0.3, random_state = 1)"
   ]
  },
  {
   "cell_type": "code",
   "execution_count": 27,
   "id": "bb273637",
   "metadata": {},
   "outputs": [
    {
     "data": {
      "text/plain": [
       "(7000, 7)"
      ]
     },
     "execution_count": 27,
     "metadata": {},
     "output_type": "execute_result"
    }
   ],
   "source": [
    "x_train.shape"
   ]
  },
  {
   "cell_type": "code",
   "execution_count": 28,
   "id": "c31e98a2",
   "metadata": {},
   "outputs": [
    {
     "name": "stdout",
     "output_type": "stream",
     "text": [
      "57.4\n",
      "['Arts and Media' 'Hospitality and Event Management (Diploma)'\n",
      " 'Electronics and Communication' ...\n",
      " 'Computer Science and Information Technology' 'Construction and Design'\n",
      " 'Mechanical and Electrical (Diploma)']\n"
     ]
    }
   ],
   "source": [
    "from sklearn.neighbors import KNeighborsClassifier\n",
    "from sklearn import metrics\n",
    "scores = {}\n",
    "knn = KNeighborsClassifier(n_neighbors=9)\n",
    "input_data = [[83,88 , 80, 40, 84, 90, 0]]\n",
    "knn.fit(x_train, y_train)\n",
    "y_pred = knn.predict(x_test)\n",
    "scores[5] = metrics.accuracy_score(y_test, y_pred)\n",
    "print(scores[5]*100)\n",
    "print(y_pred)"
   ]
  },
  {
   "cell_type": "code",
   "execution_count": 29,
   "id": "975e1fa4",
   "metadata": {},
   "outputs": [],
   "source": [
    "model_file = \"career_recommendation_model.pkl\"\n",
    "\n",
    "with open(model_file, 'wb') as file:  \n",
    "    pickle.dump(knn, file)\n"
   ]
  },
  {
   "cell_type": "code",
   "execution_count": 30,
   "id": "9a01b876",
   "metadata": {},
   "outputs": [
    {
     "data": {
      "text/plain": [
       "['model_filename.joblib']"
      ]
     },
     "execution_count": 30,
     "metadata": {},
     "output_type": "execute_result"
    }
   ],
   "source": [
    "from joblib import dump, load\n",
    "\n",
    "# Save the model using joblib\n",
    "dump(knn, 'model_filename.joblib')\n",
    "\n",
    "# Load the model using joblib\n",
    "#loaded_model = load('model_filename.joblib')\n"
   ]
  },
  {
   "cell_type": "code",
   "execution_count": null,
   "id": "b712d5d9",
   "metadata": {},
   "outputs": [],
   "source": []
  }
 ],
 "metadata": {
  "kernelspec": {
   "display_name": "Python 3 (ipykernel)",
   "language": "python",
   "name": "python3"
  },
  "language_info": {
   "codemirror_mode": {
    "name": "ipython",
    "version": 3
   },
   "file_extension": ".py",
   "mimetype": "text/x-python",
   "name": "python",
   "nbconvert_exporter": "python",
   "pygments_lexer": "ipython3",
   "version": "3.11.3"
  }
 },
 "nbformat": 4,
 "nbformat_minor": 5
}
