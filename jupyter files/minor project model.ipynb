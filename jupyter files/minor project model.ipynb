{
 "cells": [
  {
   "cell_type": "code",
   "execution_count": 42,
   "id": "9fa5cd1f",
   "metadata": {},
   "outputs": [],
   "source": [
    "import pandas as pd\n",
    "import numpy as np\n",
    "import pickle\n",
    "career = pd.read_excel(r\"C:\\Users\\HP\\Documents\\GitHub\\minor-project\\Datasets\\student_marksheet_final3.xlsx\")\n"
   ]
  },
  {
   "cell_type": "code",
   "execution_count": 43,
   "id": "c7dac90a",
   "metadata": {},
   "outputs": [
    {
     "data": {
      "text/html": [
       "<div>\n",
       "<style scoped>\n",
       "    .dataframe tbody tr th:only-of-type {\n",
       "        vertical-align: middle;\n",
       "    }\n",
       "\n",
       "    .dataframe tbody tr th {\n",
       "        vertical-align: top;\n",
       "    }\n",
       "\n",
       "    .dataframe thead th {\n",
       "        text-align: right;\n",
       "    }\n",
       "</style>\n",
       "<table border=\"1\" class=\"dataframe\">\n",
       "  <thead>\n",
       "    <tr style=\"text-align: right;\">\n",
       "      <th></th>\n",
       "      <th>Student ID</th>\n",
       "      <th>English</th>\n",
       "      <th>Mathematics</th>\n",
       "      <th>Science</th>\n",
       "      <th>Social Studies</th>\n",
       "      <th>Logical Reasoning</th>\n",
       "      <th>Computer Awareness</th>\n",
       "      <th>Branch</th>\n",
       "      <th>Course</th>\n",
       "    </tr>\n",
       "  </thead>\n",
       "  <tbody>\n",
       "    <tr>\n",
       "      <th>0</th>\n",
       "      <td>Student_1_1</td>\n",
       "      <td>85</td>\n",
       "      <td>88</td>\n",
       "      <td>86</td>\n",
       "      <td>69</td>\n",
       "      <td>75</td>\n",
       "      <td>94</td>\n",
       "      <td>Diploma</td>\n",
       "      <td>Diploma in Computer Science and Information Te...</td>\n",
       "    </tr>\n",
       "    <tr>\n",
       "      <th>1</th>\n",
       "      <td>Student_1_2</td>\n",
       "      <td>84</td>\n",
       "      <td>93</td>\n",
       "      <td>90</td>\n",
       "      <td>47</td>\n",
       "      <td>80</td>\n",
       "      <td>89</td>\n",
       "      <td>Diploma</td>\n",
       "      <td>Diploma in Mechanical and Electrical</td>\n",
       "    </tr>\n",
       "    <tr>\n",
       "      <th>2</th>\n",
       "      <td>Student_1_3</td>\n",
       "      <td>75</td>\n",
       "      <td>80</td>\n",
       "      <td>81</td>\n",
       "      <td>54</td>\n",
       "      <td>80</td>\n",
       "      <td>91</td>\n",
       "      <td>Diploma</td>\n",
       "      <td>Diploma in Electronics and Communication</td>\n",
       "    </tr>\n",
       "    <tr>\n",
       "      <th>3</th>\n",
       "      <td>Student_1_4</td>\n",
       "      <td>82</td>\n",
       "      <td>89</td>\n",
       "      <td>85</td>\n",
       "      <td>95</td>\n",
       "      <td>83</td>\n",
       "      <td>87</td>\n",
       "      <td>Diploma</td>\n",
       "      <td>Diploma in Construction and Design</td>\n",
       "    </tr>\n",
       "    <tr>\n",
       "      <th>4</th>\n",
       "      <td>Student_1_5</td>\n",
       "      <td>84</td>\n",
       "      <td>75</td>\n",
       "      <td>74</td>\n",
       "      <td>84</td>\n",
       "      <td>78</td>\n",
       "      <td>83</td>\n",
       "      <td>Diploma</td>\n",
       "      <td>Diploma in Hospitality and Event Management</td>\n",
       "    </tr>\n",
       "    <tr>\n",
       "      <th>...</th>\n",
       "      <td>...</td>\n",
       "      <td>...</td>\n",
       "      <td>...</td>\n",
       "      <td>...</td>\n",
       "      <td>...</td>\n",
       "      <td>...</td>\n",
       "      <td>...</td>\n",
       "      <td>...</td>\n",
       "      <td>...</td>\n",
       "    </tr>\n",
       "    <tr>\n",
       "      <th>67995</th>\n",
       "      <td>Student_3000_4</td>\n",
       "      <td>43</td>\n",
       "      <td>49</td>\n",
       "      <td>43</td>\n",
       "      <td>52</td>\n",
       "      <td>50</td>\n",
       "      <td>44</td>\n",
       "      <td>Vocational</td>\n",
       "      <td>Vocational in Hospitality and Event Management</td>\n",
       "    </tr>\n",
       "    <tr>\n",
       "      <th>67996</th>\n",
       "      <td>Student_3000_5</td>\n",
       "      <td>42</td>\n",
       "      <td>48</td>\n",
       "      <td>39</td>\n",
       "      <td>40</td>\n",
       "      <td>45</td>\n",
       "      <td>43</td>\n",
       "      <td>Vocational</td>\n",
       "      <td>Vocational in Finance, Business and Marketing</td>\n",
       "    </tr>\n",
       "    <tr>\n",
       "      <th>67997</th>\n",
       "      <td>Student_3000_6</td>\n",
       "      <td>48</td>\n",
       "      <td>35</td>\n",
       "      <td>37</td>\n",
       "      <td>46</td>\n",
       "      <td>44</td>\n",
       "      <td>43</td>\n",
       "      <td>Vocational</td>\n",
       "      <td>Vocational in Arts and Media</td>\n",
       "    </tr>\n",
       "    <tr>\n",
       "      <th>67998</th>\n",
       "      <td>Student_3000_7</td>\n",
       "      <td>46</td>\n",
       "      <td>44</td>\n",
       "      <td>54</td>\n",
       "      <td>41</td>\n",
       "      <td>47</td>\n",
       "      <td>48</td>\n",
       "      <td>Vocational</td>\n",
       "      <td>Vocational in Physical Education and Wellness</td>\n",
       "    </tr>\n",
       "    <tr>\n",
       "      <th>67999</th>\n",
       "      <td>Student_3000_8</td>\n",
       "      <td>35</td>\n",
       "      <td>35</td>\n",
       "      <td>37</td>\n",
       "      <td>39</td>\n",
       "      <td>36</td>\n",
       "      <td>35</td>\n",
       "      <td>Vocational</td>\n",
       "      <td>Vocational in Culinary Studies and Cooking</td>\n",
       "    </tr>\n",
       "  </tbody>\n",
       "</table>\n",
       "<p>68000 rows × 9 columns</p>\n",
       "</div>"
      ],
      "text/plain": [
       "           Student ID  English  Mathematics  Science  Social Studies  \\\n",
       "0         Student_1_1       85           88       86              69   \n",
       "1         Student_1_2       84           93       90              47   \n",
       "2         Student_1_3       75           80       81              54   \n",
       "3         Student_1_4       82           89       85              95   \n",
       "4         Student_1_5       84           75       74              84   \n",
       "...               ...      ...          ...      ...             ...   \n",
       "67995  Student_3000_4       43           49       43              52   \n",
       "67996  Student_3000_5       42           48       39              40   \n",
       "67997  Student_3000_6       48           35       37              46   \n",
       "67998  Student_3000_7       46           44       54              41   \n",
       "67999  Student_3000_8       35           35       37              39   \n",
       "\n",
       "       Logical Reasoning  Computer Awareness      Branch  \\\n",
       "0                     75                  94     Diploma   \n",
       "1                     80                  89     Diploma   \n",
       "2                     80                  91     Diploma   \n",
       "3                     83                  87     Diploma   \n",
       "4                     78                  83     Diploma   \n",
       "...                  ...                 ...         ...   \n",
       "67995                 50                  44  Vocational   \n",
       "67996                 45                  43  Vocational   \n",
       "67997                 44                  43  Vocational   \n",
       "67998                 47                  48  Vocational   \n",
       "67999                 36                  35  Vocational   \n",
       "\n",
       "                                                  Course  \n",
       "0      Diploma in Computer Science and Information Te...  \n",
       "1                   Diploma in Mechanical and Electrical  \n",
       "2               Diploma in Electronics and Communication  \n",
       "3                     Diploma in Construction and Design  \n",
       "4            Diploma in Hospitality and Event Management  \n",
       "...                                                  ...  \n",
       "67995     Vocational in Hospitality and Event Management  \n",
       "67996      Vocational in Finance, Business and Marketing  \n",
       "67997                       Vocational in Arts and Media  \n",
       "67998      Vocational in Physical Education and Wellness  \n",
       "67999         Vocational in Culinary Studies and Cooking  \n",
       "\n",
       "[68000 rows x 9 columns]"
      ]
     },
     "execution_count": 43,
     "metadata": {},
     "output_type": "execute_result"
    }
   ],
   "source": [
    "career"
   ]
  },
  {
   "cell_type": "code",
   "execution_count": 44,
   "id": "17ec7de8",
   "metadata": {},
   "outputs": [],
   "source": [
    "from sklearn.preprocessing import LabelEncoder\n",
    "label_encoder = LabelEncoder()\n",
    "career['Branch'] = label_encoder.fit_transform(career['Branch'])\n",
    "x = np.array(career.iloc[:, 1:8])"
   ]
  },
  {
   "cell_type": "code",
   "execution_count": 45,
   "id": "1b11b62a",
   "metadata": {},
   "outputs": [
    {
     "data": {
      "text/plain": [
       "array([[85, 88, 86, ..., 75, 94,  0],\n",
       "       [84, 93, 90, ..., 80, 89,  0],\n",
       "       [75, 80, 81, ..., 80, 91,  0],\n",
       "       ...,\n",
       "       [48, 35, 37, ..., 44, 43,  2],\n",
       "       [46, 44, 54, ..., 47, 48,  2],\n",
       "       [35, 35, 37, ..., 36, 35,  2]], dtype=int64)"
      ]
     },
     "execution_count": 45,
     "metadata": {},
     "output_type": "execute_result"
    }
   ],
   "source": [
    "x"
   ]
  },
  {
   "cell_type": "code",
   "execution_count": 46,
   "id": "8055a4c0",
   "metadata": {},
   "outputs": [],
   "source": [
    "y = np.array(career.iloc[:, 8])"
   ]
  },
  {
   "cell_type": "code",
   "execution_count": 47,
   "id": "3eaa1463",
   "metadata": {},
   "outputs": [
    {
     "data": {
      "text/plain": [
       "array(['Diploma in Computer Science and Information Technology',\n",
       "       'Diploma in Mechanical and Electrical',\n",
       "       'Diploma in Electronics and Communication', ...,\n",
       "       'Vocational in Arts and Media',\n",
       "       'Vocational in Physical Education and Wellness',\n",
       "       'Vocational in Culinary Studies and Cooking'], dtype=object)"
      ]
     },
     "execution_count": 47,
     "metadata": {},
     "output_type": "execute_result"
    }
   ],
   "source": [
    "y"
   ]
  },
  {
   "cell_type": "code",
   "execution_count": 48,
   "id": "38b1efbb",
   "metadata": {},
   "outputs": [
    {
     "data": {
      "text/plain": [
       "Index(['Student ID', 'English', 'Mathematics', 'Science', 'Social Studies',\n",
       "       'Logical Reasoning', 'Computer Awareness', 'Branch', 'Course'],\n",
       "      dtype='object')"
      ]
     },
     "execution_count": 48,
     "metadata": {},
     "output_type": "execute_result"
    }
   ],
   "source": [
    "career.columns"
   ]
  },
  {
   "cell_type": "code",
   "execution_count": 49,
   "id": "84e0117e",
   "metadata": {},
   "outputs": [
    {
     "data": {
      "text/html": [
       "<div>\n",
       "<style scoped>\n",
       "    .dataframe tbody tr th:only-of-type {\n",
       "        vertical-align: middle;\n",
       "    }\n",
       "\n",
       "    .dataframe tbody tr th {\n",
       "        vertical-align: top;\n",
       "    }\n",
       "\n",
       "    .dataframe thead th {\n",
       "        text-align: right;\n",
       "    }\n",
       "</style>\n",
       "<table border=\"1\" class=\"dataframe\">\n",
       "  <thead>\n",
       "    <tr style=\"text-align: right;\">\n",
       "      <th></th>\n",
       "      <th>Student ID</th>\n",
       "      <th>English</th>\n",
       "      <th>Mathematics</th>\n",
       "      <th>Science</th>\n",
       "      <th>Social Studies</th>\n",
       "      <th>Logical Reasoning</th>\n",
       "      <th>Computer Awareness</th>\n",
       "      <th>Branch</th>\n",
       "      <th>Course</th>\n",
       "    </tr>\n",
       "  </thead>\n",
       "  <tbody>\n",
       "    <tr>\n",
       "      <th>0</th>\n",
       "      <td>Student_1_1</td>\n",
       "      <td>85</td>\n",
       "      <td>88</td>\n",
       "      <td>86</td>\n",
       "      <td>69</td>\n",
       "      <td>75</td>\n",
       "      <td>94</td>\n",
       "      <td>0</td>\n",
       "      <td>Diploma in Computer Science and Information Te...</td>\n",
       "    </tr>\n",
       "    <tr>\n",
       "      <th>1</th>\n",
       "      <td>Student_1_2</td>\n",
       "      <td>84</td>\n",
       "      <td>93</td>\n",
       "      <td>90</td>\n",
       "      <td>47</td>\n",
       "      <td>80</td>\n",
       "      <td>89</td>\n",
       "      <td>0</td>\n",
       "      <td>Diploma in Mechanical and Electrical</td>\n",
       "    </tr>\n",
       "    <tr>\n",
       "      <th>2</th>\n",
       "      <td>Student_1_3</td>\n",
       "      <td>75</td>\n",
       "      <td>80</td>\n",
       "      <td>81</td>\n",
       "      <td>54</td>\n",
       "      <td>80</td>\n",
       "      <td>91</td>\n",
       "      <td>0</td>\n",
       "      <td>Diploma in Electronics and Communication</td>\n",
       "    </tr>\n",
       "    <tr>\n",
       "      <th>3</th>\n",
       "      <td>Student_1_4</td>\n",
       "      <td>82</td>\n",
       "      <td>89</td>\n",
       "      <td>85</td>\n",
       "      <td>95</td>\n",
       "      <td>83</td>\n",
       "      <td>87</td>\n",
       "      <td>0</td>\n",
       "      <td>Diploma in Construction and Design</td>\n",
       "    </tr>\n",
       "    <tr>\n",
       "      <th>4</th>\n",
       "      <td>Student_1_5</td>\n",
       "      <td>84</td>\n",
       "      <td>75</td>\n",
       "      <td>74</td>\n",
       "      <td>84</td>\n",
       "      <td>78</td>\n",
       "      <td>83</td>\n",
       "      <td>0</td>\n",
       "      <td>Diploma in Hospitality and Event Management</td>\n",
       "    </tr>\n",
       "  </tbody>\n",
       "</table>\n",
       "</div>"
      ],
      "text/plain": [
       "    Student ID  English  Mathematics  Science  Social Studies  \\\n",
       "0  Student_1_1       85           88       86              69   \n",
       "1  Student_1_2       84           93       90              47   \n",
       "2  Student_1_3       75           80       81              54   \n",
       "3  Student_1_4       82           89       85              95   \n",
       "4  Student_1_5       84           75       74              84   \n",
       "\n",
       "   Logical Reasoning  Computer Awareness  Branch  \\\n",
       "0                 75                  94       0   \n",
       "1                 80                  89       0   \n",
       "2                 80                  91       0   \n",
       "3                 83                  87       0   \n",
       "4                 78                  83       0   \n",
       "\n",
       "                                              Course  \n",
       "0  Diploma in Computer Science and Information Te...  \n",
       "1               Diploma in Mechanical and Electrical  \n",
       "2           Diploma in Electronics and Communication  \n",
       "3                 Diploma in Construction and Design  \n",
       "4        Diploma in Hospitality and Event Management  "
      ]
     },
     "execution_count": 49,
     "metadata": {},
     "output_type": "execute_result"
    }
   ],
   "source": [
    "career.head()"
   ]
  },
  {
   "cell_type": "code",
   "execution_count": 50,
   "id": "70e754f6",
   "metadata": {},
   "outputs": [],
   "source": [
    "from sklearn.model_selection import train_test_split \n",
    "x_train, x_test, y_train, y_test = train_test_split(x, y,test_size = 0.3, random_state = 1)"
   ]
  },
  {
   "cell_type": "code",
   "execution_count": 51,
   "id": "bb273637",
   "metadata": {},
   "outputs": [
    {
     "data": {
      "text/plain": [
       "(47600, 7)"
      ]
     },
     "execution_count": 51,
     "metadata": {},
     "output_type": "execute_result"
    }
   ],
   "source": [
    "x_train.shape"
   ]
  },
  {
   "cell_type": "code",
   "execution_count": 67,
   "id": "c31e98a2",
   "metadata": {},
   "outputs": [
    {
     "name": "stdout",
     "output_type": "stream",
     "text": [
      "['Diploma in Computer Science and Information Technology']\n"
     ]
    }
   ],
   "source": [
    "from sklearn.neighbors import KNeighborsClassifier\n",
    "from sklearn import metrics\n",
    "scores = {}\n",
    "knn = KNeighborsClassifier(n_neighbors=9)\n",
    "input_data = [[83,88 , 80, 40, 84, 90, 0]]\n",
    "knn.fit(x_train, y_train)\n",
    "y_pred = knn.predict(input_data)\n",
    "#scores[5] = metrics.accuracy_score(y_test, y_pred)\n",
    "#print(scores[5]*100)\n",
    "print(y_pred)"
   ]
  },
  {
   "cell_type": "code",
   "execution_count": 53,
   "id": "975e1fa4",
   "metadata": {},
   "outputs": [],
   "source": [
    "model_file = \"career_recommendation_model.pkl\"\n",
    "\n",
    "with open(model_file, 'wb') as file:  \n",
    "    pickle.dump(knn, file)\n"
   ]
  },
  {
   "cell_type": "code",
   "execution_count": 54,
   "id": "9a01b876",
   "metadata": {},
   "outputs": [
    {
     "data": {
      "text/plain": [
       "['model_filename.joblib']"
      ]
     },
     "execution_count": 54,
     "metadata": {},
     "output_type": "execute_result"
    }
   ],
   "source": [
    "from joblib import dump, load\n",
    "\n",
    "# Save the model using joblib\n",
    "dump(knn, 'model_filename.joblib')\n",
    "\n",
    "# Load the model using joblib\n",
    "#loaded_model = load('model_filename.joblib')\n"
   ]
  },
  {
   "cell_type": "code",
   "execution_count": null,
   "id": "b712d5d9",
   "metadata": {},
   "outputs": [],
   "source": []
  }
 ],
 "metadata": {
  "kernelspec": {
   "display_name": "Python 3 (ipykernel)",
   "language": "python",
   "name": "python3"
  },
  "language_info": {
   "codemirror_mode": {
    "name": "ipython",
    "version": 3
   },
   "file_extension": ".py",
   "mimetype": "text/x-python",
   "name": "python",
   "nbconvert_exporter": "python",
   "pygments_lexer": "ipython3",
   "version": "3.11.3"
  }
 },
 "nbformat": 4,
 "nbformat_minor": 5
}
