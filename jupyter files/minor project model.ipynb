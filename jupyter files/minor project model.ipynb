{
 "cells": [
  {
   "cell_type": "code",
   "execution_count": 1,
   "id": "9fa5cd1f",
   "metadata": {},
   "outputs": [],
   "source": [
    "import pandas as pd\n",
    "import numpy as np\n",
    "import pickle\n",
    "career = pd.read_excel(r\"C:\\Users\\HP\\Documents\\GitHub\\minor-project\\Datasets\\student_marksheet_final2.xlsx\")\n"
   ]
  },
  {
   "cell_type": "code",
   "execution_count": 2,
   "id": "c7dac90a",
   "metadata": {},
   "outputs": [
    {
     "data": {
      "text/html": [
       "<div>\n",
       "<style scoped>\n",
       "    .dataframe tbody tr th:only-of-type {\n",
       "        vertical-align: middle;\n",
       "    }\n",
       "\n",
       "    .dataframe tbody tr th {\n",
       "        vertical-align: top;\n",
       "    }\n",
       "\n",
       "    .dataframe thead th {\n",
       "        text-align: right;\n",
       "    }\n",
       "</style>\n",
       "<table border=\"1\" class=\"dataframe\">\n",
       "  <thead>\n",
       "    <tr style=\"text-align: right;\">\n",
       "      <th></th>\n",
       "      <th>Student ID</th>\n",
       "      <th>English</th>\n",
       "      <th>Mathematics</th>\n",
       "      <th>Science</th>\n",
       "      <th>Social Studies</th>\n",
       "      <th>Logical Reasoning</th>\n",
       "      <th>Computer Awareness</th>\n",
       "      <th>Branch</th>\n",
       "      <th>Course</th>\n",
       "    </tr>\n",
       "  </thead>\n",
       "  <tbody>\n",
       "    <tr>\n",
       "      <th>0</th>\n",
       "      <td>Student_1_1</td>\n",
       "      <td>83</td>\n",
       "      <td>92</td>\n",
       "      <td>80</td>\n",
       "      <td>48</td>\n",
       "      <td>88</td>\n",
       "      <td>92</td>\n",
       "      <td>Diploma</td>\n",
       "      <td>Diploma in Computer Science and Information Te...</td>\n",
       "    </tr>\n",
       "    <tr>\n",
       "      <th>1</th>\n",
       "      <td>Student_1_2</td>\n",
       "      <td>78</td>\n",
       "      <td>88</td>\n",
       "      <td>87</td>\n",
       "      <td>66</td>\n",
       "      <td>82</td>\n",
       "      <td>76</td>\n",
       "      <td>Diploma</td>\n",
       "      <td>Diploma in Mechanical and Electrical</td>\n",
       "    </tr>\n",
       "    <tr>\n",
       "      <th>2</th>\n",
       "      <td>Student_1_3</td>\n",
       "      <td>86</td>\n",
       "      <td>78</td>\n",
       "      <td>84</td>\n",
       "      <td>57</td>\n",
       "      <td>89</td>\n",
       "      <td>95</td>\n",
       "      <td>Diploma</td>\n",
       "      <td>Diploma in Electronics and Communication</td>\n",
       "    </tr>\n",
       "    <tr>\n",
       "      <th>3</th>\n",
       "      <td>Student_1_4</td>\n",
       "      <td>79</td>\n",
       "      <td>80</td>\n",
       "      <td>78</td>\n",
       "      <td>95</td>\n",
       "      <td>95</td>\n",
       "      <td>75</td>\n",
       "      <td>Diploma</td>\n",
       "      <td>Diploma in Construction and Design</td>\n",
       "    </tr>\n",
       "    <tr>\n",
       "      <th>4</th>\n",
       "      <td>Student_1_5</td>\n",
       "      <td>87</td>\n",
       "      <td>56</td>\n",
       "      <td>80</td>\n",
       "      <td>82</td>\n",
       "      <td>87</td>\n",
       "      <td>83</td>\n",
       "      <td>Diploma</td>\n",
       "      <td>Diploma in Hospitality and Event Management</td>\n",
       "    </tr>\n",
       "    <tr>\n",
       "      <th>...</th>\n",
       "      <td>...</td>\n",
       "      <td>...</td>\n",
       "      <td>...</td>\n",
       "      <td>...</td>\n",
       "      <td>...</td>\n",
       "      <td>...</td>\n",
       "      <td>...</td>\n",
       "      <td>...</td>\n",
       "      <td>...</td>\n",
       "    </tr>\n",
       "    <tr>\n",
       "      <th>6145</th>\n",
       "      <td>Student_300_4</td>\n",
       "      <td>55</td>\n",
       "      <td>44</td>\n",
       "      <td>44</td>\n",
       "      <td>52</td>\n",
       "      <td>47</td>\n",
       "      <td>49</td>\n",
       "      <td>Vocational</td>\n",
       "      <td>Vocational in Hospitality and Event Management</td>\n",
       "    </tr>\n",
       "    <tr>\n",
       "      <th>6146</th>\n",
       "      <td>Student_300_5</td>\n",
       "      <td>48</td>\n",
       "      <td>49</td>\n",
       "      <td>42</td>\n",
       "      <td>37</td>\n",
       "      <td>51</td>\n",
       "      <td>45</td>\n",
       "      <td>Vocational</td>\n",
       "      <td>Vocational in Finance, Business and Marketing</td>\n",
       "    </tr>\n",
       "    <tr>\n",
       "      <th>6147</th>\n",
       "      <td>Student_300_6</td>\n",
       "      <td>52</td>\n",
       "      <td>42</td>\n",
       "      <td>35</td>\n",
       "      <td>52</td>\n",
       "      <td>41</td>\n",
       "      <td>42</td>\n",
       "      <td>Vocational</td>\n",
       "      <td>Vocational in Arts and Media</td>\n",
       "    </tr>\n",
       "    <tr>\n",
       "      <th>6148</th>\n",
       "      <td>Student_300_7</td>\n",
       "      <td>52</td>\n",
       "      <td>44</td>\n",
       "      <td>45</td>\n",
       "      <td>39</td>\n",
       "      <td>43</td>\n",
       "      <td>44</td>\n",
       "      <td>Vocational</td>\n",
       "      <td>Vocational in Physical Education and Wellness</td>\n",
       "    </tr>\n",
       "    <tr>\n",
       "      <th>6149</th>\n",
       "      <td>Student_300_8</td>\n",
       "      <td>36</td>\n",
       "      <td>37</td>\n",
       "      <td>38</td>\n",
       "      <td>39</td>\n",
       "      <td>39</td>\n",
       "      <td>36</td>\n",
       "      <td>Vocational</td>\n",
       "      <td>Vocational in Culinary Studies and Cooking</td>\n",
       "    </tr>\n",
       "  </tbody>\n",
       "</table>\n",
       "<p>6150 rows × 9 columns</p>\n",
       "</div>"
      ],
      "text/plain": [
       "         Student ID  English  Mathematics  Science  Social Studies  \\\n",
       "0       Student_1_1       83           92       80              48   \n",
       "1       Student_1_2       78           88       87              66   \n",
       "2       Student_1_3       86           78       84              57   \n",
       "3       Student_1_4       79           80       78              95   \n",
       "4       Student_1_5       87           56       80              82   \n",
       "...             ...      ...          ...      ...             ...   \n",
       "6145  Student_300_4       55           44       44              52   \n",
       "6146  Student_300_5       48           49       42              37   \n",
       "6147  Student_300_6       52           42       35              52   \n",
       "6148  Student_300_7       52           44       45              39   \n",
       "6149  Student_300_8       36           37       38              39   \n",
       "\n",
       "      Logical Reasoning  Computer Awareness      Branch  \\\n",
       "0                    88                  92     Diploma   \n",
       "1                    82                  76     Diploma   \n",
       "2                    89                  95     Diploma   \n",
       "3                    95                  75     Diploma   \n",
       "4                    87                  83     Diploma   \n",
       "...                 ...                 ...         ...   \n",
       "6145                 47                  49  Vocational   \n",
       "6146                 51                  45  Vocational   \n",
       "6147                 41                  42  Vocational   \n",
       "6148                 43                  44  Vocational   \n",
       "6149                 39                  36  Vocational   \n",
       "\n",
       "                                                 Course  \n",
       "0     Diploma in Computer Science and Information Te...  \n",
       "1                  Diploma in Mechanical and Electrical  \n",
       "2              Diploma in Electronics and Communication  \n",
       "3                    Diploma in Construction and Design  \n",
       "4           Diploma in Hospitality and Event Management  \n",
       "...                                                 ...  \n",
       "6145     Vocational in Hospitality and Event Management  \n",
       "6146      Vocational in Finance, Business and Marketing  \n",
       "6147                       Vocational in Arts and Media  \n",
       "6148      Vocational in Physical Education and Wellness  \n",
       "6149         Vocational in Culinary Studies and Cooking  \n",
       "\n",
       "[6150 rows x 9 columns]"
      ]
     },
     "execution_count": 2,
     "metadata": {},
     "output_type": "execute_result"
    }
   ],
   "source": [
    "career"
   ]
  },
  {
   "cell_type": "code",
   "execution_count": 4,
   "id": "17ec7de8",
   "metadata": {},
   "outputs": [],
   "source": [
    "from sklearn.preprocessing import LabelEncoder\n",
    "label_encoder = LabelEncoder()\n",
    "career['Branch'] = label_encoder.fit_transform(career['Branch'])\n",
    "x = np.array(career.iloc[:, 1:8])"
   ]
  },
  {
   "cell_type": "code",
   "execution_count": 5,
   "id": "1b11b62a",
   "metadata": {},
   "outputs": [
    {
     "data": {
      "text/plain": [
       "array([[83, 92, 80, ..., 88, 92,  0],\n",
       "       [78, 88, 87, ..., 82, 76,  0],\n",
       "       [86, 78, 84, ..., 89, 95,  0],\n",
       "       ...,\n",
       "       [52, 42, 35, ..., 41, 42,  2],\n",
       "       [52, 44, 45, ..., 43, 44,  2],\n",
       "       [36, 37, 38, ..., 39, 36,  2]], dtype=int64)"
      ]
     },
     "execution_count": 5,
     "metadata": {},
     "output_type": "execute_result"
    }
   ],
   "source": [
    "x"
   ]
  },
  {
   "cell_type": "code",
   "execution_count": 6,
   "id": "8055a4c0",
   "metadata": {},
   "outputs": [],
   "source": [
    "y = np.array(career.iloc[:, 8])"
   ]
  },
  {
   "cell_type": "code",
   "execution_count": 7,
   "id": "3eaa1463",
   "metadata": {},
   "outputs": [
    {
     "data": {
      "text/plain": [
       "array(['Diploma in Computer Science and Information Technology',\n",
       "       'Diploma in Mechanical and Electrical',\n",
       "       'Diploma in Electronics and Communication', ...,\n",
       "       'Vocational in Arts and Media',\n",
       "       'Vocational in Physical Education and Wellness',\n",
       "       'Vocational in Culinary Studies and Cooking'], dtype=object)"
      ]
     },
     "execution_count": 7,
     "metadata": {},
     "output_type": "execute_result"
    }
   ],
   "source": [
    "y"
   ]
  },
  {
   "cell_type": "code",
   "execution_count": 8,
   "id": "38b1efbb",
   "metadata": {},
   "outputs": [
    {
     "data": {
      "text/plain": [
       "Index(['Student ID', 'English', 'Mathematics', 'Science', 'Social Studies',\n",
       "       'Logical Reasoning', 'Computer Awareness', 'Branch', 'Course'],\n",
       "      dtype='object')"
      ]
     },
     "execution_count": 8,
     "metadata": {},
     "output_type": "execute_result"
    }
   ],
   "source": [
    "career.columns"
   ]
  },
  {
   "cell_type": "code",
   "execution_count": 9,
   "id": "84e0117e",
   "metadata": {},
   "outputs": [
    {
     "data": {
      "text/html": [
       "<div>\n",
       "<style scoped>\n",
       "    .dataframe tbody tr th:only-of-type {\n",
       "        vertical-align: middle;\n",
       "    }\n",
       "\n",
       "    .dataframe tbody tr th {\n",
       "        vertical-align: top;\n",
       "    }\n",
       "\n",
       "    .dataframe thead th {\n",
       "        text-align: right;\n",
       "    }\n",
       "</style>\n",
       "<table border=\"1\" class=\"dataframe\">\n",
       "  <thead>\n",
       "    <tr style=\"text-align: right;\">\n",
       "      <th></th>\n",
       "      <th>Student ID</th>\n",
       "      <th>English</th>\n",
       "      <th>Mathematics</th>\n",
       "      <th>Science</th>\n",
       "      <th>Social Studies</th>\n",
       "      <th>Logical Reasoning</th>\n",
       "      <th>Computer Awareness</th>\n",
       "      <th>Branch</th>\n",
       "      <th>Course</th>\n",
       "    </tr>\n",
       "  </thead>\n",
       "  <tbody>\n",
       "    <tr>\n",
       "      <th>0</th>\n",
       "      <td>Student_1_1</td>\n",
       "      <td>83</td>\n",
       "      <td>92</td>\n",
       "      <td>80</td>\n",
       "      <td>48</td>\n",
       "      <td>88</td>\n",
       "      <td>92</td>\n",
       "      <td>0</td>\n",
       "      <td>Diploma in Computer Science and Information Te...</td>\n",
       "    </tr>\n",
       "    <tr>\n",
       "      <th>1</th>\n",
       "      <td>Student_1_2</td>\n",
       "      <td>78</td>\n",
       "      <td>88</td>\n",
       "      <td>87</td>\n",
       "      <td>66</td>\n",
       "      <td>82</td>\n",
       "      <td>76</td>\n",
       "      <td>0</td>\n",
       "      <td>Diploma in Mechanical and Electrical</td>\n",
       "    </tr>\n",
       "    <tr>\n",
       "      <th>2</th>\n",
       "      <td>Student_1_3</td>\n",
       "      <td>86</td>\n",
       "      <td>78</td>\n",
       "      <td>84</td>\n",
       "      <td>57</td>\n",
       "      <td>89</td>\n",
       "      <td>95</td>\n",
       "      <td>0</td>\n",
       "      <td>Diploma in Electronics and Communication</td>\n",
       "    </tr>\n",
       "    <tr>\n",
       "      <th>3</th>\n",
       "      <td>Student_1_4</td>\n",
       "      <td>79</td>\n",
       "      <td>80</td>\n",
       "      <td>78</td>\n",
       "      <td>95</td>\n",
       "      <td>95</td>\n",
       "      <td>75</td>\n",
       "      <td>0</td>\n",
       "      <td>Diploma in Construction and Design</td>\n",
       "    </tr>\n",
       "    <tr>\n",
       "      <th>4</th>\n",
       "      <td>Student_1_5</td>\n",
       "      <td>87</td>\n",
       "      <td>56</td>\n",
       "      <td>80</td>\n",
       "      <td>82</td>\n",
       "      <td>87</td>\n",
       "      <td>83</td>\n",
       "      <td>0</td>\n",
       "      <td>Diploma in Hospitality and Event Management</td>\n",
       "    </tr>\n",
       "  </tbody>\n",
       "</table>\n",
       "</div>"
      ],
      "text/plain": [
       "    Student ID  English  Mathematics  Science  Social Studies  \\\n",
       "0  Student_1_1       83           92       80              48   \n",
       "1  Student_1_2       78           88       87              66   \n",
       "2  Student_1_3       86           78       84              57   \n",
       "3  Student_1_4       79           80       78              95   \n",
       "4  Student_1_5       87           56       80              82   \n",
       "\n",
       "   Logical Reasoning  Computer Awareness  Branch  \\\n",
       "0                 88                  92       0   \n",
       "1                 82                  76       0   \n",
       "2                 89                  95       0   \n",
       "3                 95                  75       0   \n",
       "4                 87                  83       0   \n",
       "\n",
       "                                              Course  \n",
       "0  Diploma in Computer Science and Information Te...  \n",
       "1               Diploma in Mechanical and Electrical  \n",
       "2           Diploma in Electronics and Communication  \n",
       "3                 Diploma in Construction and Design  \n",
       "4        Diploma in Hospitality and Event Management  "
      ]
     },
     "execution_count": 9,
     "metadata": {},
     "output_type": "execute_result"
    }
   ],
   "source": [
    "career.head()"
   ]
  },
  {
   "cell_type": "code",
   "execution_count": 10,
   "id": "70e754f6",
   "metadata": {},
   "outputs": [],
   "source": [
    "from sklearn.model_selection import train_test_split \n",
    "x_train, x_test, y_train, y_test = train_test_split(x, y,test_size = 0.3, random_state = 1)"
   ]
  },
  {
   "cell_type": "code",
   "execution_count": 11,
   "id": "bb273637",
   "metadata": {},
   "outputs": [
    {
     "data": {
      "text/plain": [
       "(4305, 7)"
      ]
     },
     "execution_count": 11,
     "metadata": {},
     "output_type": "execute_result"
    }
   ],
   "source": [
    "x_train.shape"
   ]
  },
  {
   "cell_type": "code",
   "execution_count": 29,
   "id": "c31e98a2",
   "metadata": {},
   "outputs": [
    {
     "name": "stdout",
     "output_type": "stream",
     "text": [
      "['Diploma in Hospitality and Event Management']\n"
     ]
    }
   ],
   "source": [
    "from sklearn.neighbors import KNeighborsClassifier\n",
    "#from sklearn import metrics\n",
    "#scores = {}\n",
    "knn = KNeighborsClassifier(n_neighbors=9)\n",
    "input_data = [[83, 50, 48, 88, 79, 75, 0]]\n",
    "knn.fit(x_train, y_train)\n",
    "y_pred = knn.predict(input_data)\n",
    "#scores[5] = metrics.accuracy_score(y_test, y_pred)\n",
    "#print(scores[5]*100)\n",
    "print(y_pred)"
   ]
  },
  {
   "cell_type": "code",
   "execution_count": 41,
   "id": "975e1fa4",
   "metadata": {},
   "outputs": [],
   "source": [
    "model_file = \"career_recommendation_model.pkl\"\n",
    "\n",
    "with open(model_file, 'wb') as file:  \n",
    "    pickle.dump(knn, file)\n"
   ]
  },
  {
   "cell_type": "code",
   "execution_count": 43,
   "id": "9a01b876",
   "metadata": {},
   "outputs": [
    {
     "data": {
      "text/plain": [
       "['model_filename.joblib']"
      ]
     },
     "execution_count": 43,
     "metadata": {},
     "output_type": "execute_result"
    }
   ],
   "source": [
    "from joblib import dump, load\n",
    "\n",
    "# Save the model using joblib\n",
    "dump(knn, 'model_filename.joblib')\n",
    "\n",
    "# Load the model using joblib\n",
    "#loaded_model = load('model_filename.joblib')\n"
   ]
  },
  {
   "cell_type": "code",
   "execution_count": null,
   "id": "b712d5d9",
   "metadata": {},
   "outputs": [],
   "source": []
  }
 ],
 "metadata": {
  "kernelspec": {
   "display_name": "Python 3 (ipykernel)",
   "language": "python",
   "name": "python3"
  },
  "language_info": {
   "codemirror_mode": {
    "name": "ipython",
    "version": 3
   },
   "file_extension": ".py",
   "mimetype": "text/x-python",
   "name": "python",
   "nbconvert_exporter": "python",
   "pygments_lexer": "ipython3",
   "version": "3.11.3"
  }
 },
 "nbformat": 4,
 "nbformat_minor": 5
}
