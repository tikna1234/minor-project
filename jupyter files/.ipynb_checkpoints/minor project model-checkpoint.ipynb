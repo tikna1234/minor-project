{
 "cells": [
  {
   "cell_type": "code",
   "execution_count": 3,
   "id": "9fa5cd1f",
   "metadata": {},
   "outputs": [],
   "source": [
    "import pandas as pd\n",
    "import numpy as np\n",
    "import pickle\n",
    "career = pd.read_excel(r\"C:\\Users\\HP\\Documents\\GitHub\\minor-project\\Datasets\\student_marksheet_final1.xlsx\")\n"
   ]
  },
  {
   "cell_type": "code",
   "execution_count": 4,
   "id": "c7dac90a",
   "metadata": {},
   "outputs": [
    {
     "data": {
      "text/html": [
       "<div>\n",
       "<style scoped>\n",
       "    .dataframe tbody tr th:only-of-type {\n",
       "        vertical-align: middle;\n",
       "    }\n",
       "\n",
       "    .dataframe tbody tr th {\n",
       "        vertical-align: top;\n",
       "    }\n",
       "\n",
       "    .dataframe thead th {\n",
       "        text-align: right;\n",
       "    }\n",
       "</style>\n",
       "<table border=\"1\" class=\"dataframe\">\n",
       "  <thead>\n",
       "    <tr style=\"text-align: right;\">\n",
       "      <th></th>\n",
       "      <th>Student ID</th>\n",
       "      <th>English</th>\n",
       "      <th>Mathematics</th>\n",
       "      <th>Science</th>\n",
       "      <th>Social Studies</th>\n",
       "      <th>Logical Reasoning</th>\n",
       "      <th>Computer Awareness</th>\n",
       "      <th>Courses</th>\n",
       "      <th>Interest</th>\n",
       "    </tr>\n",
       "  </thead>\n",
       "  <tbody>\n",
       "    <tr>\n",
       "      <th>0</th>\n",
       "      <td>Student_1_1</td>\n",
       "      <td>77</td>\n",
       "      <td>84</td>\n",
       "      <td>82</td>\n",
       "      <td>78</td>\n",
       "      <td>84</td>\n",
       "      <td>91</td>\n",
       "      <td>DIPLOMA</td>\n",
       "      <td>Computer Science and Information Technology</td>\n",
       "    </tr>\n",
       "    <tr>\n",
       "      <th>1</th>\n",
       "      <td>Student_1_2</td>\n",
       "      <td>75</td>\n",
       "      <td>93</td>\n",
       "      <td>85</td>\n",
       "      <td>75</td>\n",
       "      <td>83</td>\n",
       "      <td>84</td>\n",
       "      <td>DIPLOMA</td>\n",
       "      <td>Mechanical and Electrical</td>\n",
       "    </tr>\n",
       "    <tr>\n",
       "      <th>2</th>\n",
       "      <td>Student_1_3</td>\n",
       "      <td>78</td>\n",
       "      <td>80</td>\n",
       "      <td>85</td>\n",
       "      <td>80</td>\n",
       "      <td>81</td>\n",
       "      <td>87</td>\n",
       "      <td>DIPLOMA</td>\n",
       "      <td>Electronics and Communication</td>\n",
       "    </tr>\n",
       "    <tr>\n",
       "      <th>3</th>\n",
       "      <td>Student_1_4</td>\n",
       "      <td>79</td>\n",
       "      <td>82</td>\n",
       "      <td>75</td>\n",
       "      <td>81</td>\n",
       "      <td>87</td>\n",
       "      <td>80</td>\n",
       "      <td>DIPLOMA</td>\n",
       "      <td>Construction and Design</td>\n",
       "    </tr>\n",
       "    <tr>\n",
       "      <th>4</th>\n",
       "      <td>Student_1_5</td>\n",
       "      <td>92</td>\n",
       "      <td>81</td>\n",
       "      <td>80</td>\n",
       "      <td>80</td>\n",
       "      <td>83</td>\n",
       "      <td>85</td>\n",
       "      <td>DIPLOMA</td>\n",
       "      <td>Hospitality and Event Management</td>\n",
       "    </tr>\n",
       "    <tr>\n",
       "      <th>...</th>\n",
       "      <td>...</td>\n",
       "      <td>...</td>\n",
       "      <td>...</td>\n",
       "      <td>...</td>\n",
       "      <td>...</td>\n",
       "      <td>...</td>\n",
       "      <td>...</td>\n",
       "      <td>...</td>\n",
       "      <td>...</td>\n",
       "    </tr>\n",
       "    <tr>\n",
       "      <th>12110</th>\n",
       "      <td>NaN</td>\n",
       "      <td>91</td>\n",
       "      <td>91</td>\n",
       "      <td>91</td>\n",
       "      <td>91</td>\n",
       "      <td>91</td>\n",
       "      <td>91</td>\n",
       "      <td>DIPLOMA</td>\n",
       "      <td>Computer Science and Information Technology</td>\n",
       "    </tr>\n",
       "    <tr>\n",
       "      <th>12111</th>\n",
       "      <td>NaN</td>\n",
       "      <td>92</td>\n",
       "      <td>92</td>\n",
       "      <td>92</td>\n",
       "      <td>92</td>\n",
       "      <td>92</td>\n",
       "      <td>92</td>\n",
       "      <td>DIPLOMA</td>\n",
       "      <td>Computer Science and Information Technology</td>\n",
       "    </tr>\n",
       "    <tr>\n",
       "      <th>12112</th>\n",
       "      <td>NaN</td>\n",
       "      <td>93</td>\n",
       "      <td>93</td>\n",
       "      <td>93</td>\n",
       "      <td>93</td>\n",
       "      <td>93</td>\n",
       "      <td>93</td>\n",
       "      <td>DIPLOMA</td>\n",
       "      <td>Computer Science and Information Technology</td>\n",
       "    </tr>\n",
       "    <tr>\n",
       "      <th>12113</th>\n",
       "      <td>NaN</td>\n",
       "      <td>94</td>\n",
       "      <td>94</td>\n",
       "      <td>94</td>\n",
       "      <td>94</td>\n",
       "      <td>94</td>\n",
       "      <td>94</td>\n",
       "      <td>DIPLOMA</td>\n",
       "      <td>Computer Science and Information Technology</td>\n",
       "    </tr>\n",
       "    <tr>\n",
       "      <th>12114</th>\n",
       "      <td>NaN</td>\n",
       "      <td>95</td>\n",
       "      <td>95</td>\n",
       "      <td>95</td>\n",
       "      <td>95</td>\n",
       "      <td>95</td>\n",
       "      <td>95</td>\n",
       "      <td>DIPLOMA</td>\n",
       "      <td>Computer Science and Information Technology</td>\n",
       "    </tr>\n",
       "  </tbody>\n",
       "</table>\n",
       "<p>12115 rows × 9 columns</p>\n",
       "</div>"
      ],
      "text/plain": [
       "        Student ID  English  Mathematics  Science  Social Studies  \\\n",
       "0      Student_1_1       77           84       82              78   \n",
       "1      Student_1_2       75           93       85              75   \n",
       "2      Student_1_3       78           80       85              80   \n",
       "3      Student_1_4       79           82       75              81   \n",
       "4      Student_1_5       92           81       80              80   \n",
       "...            ...      ...          ...      ...             ...   \n",
       "12110          NaN       91           91       91              91   \n",
       "12111          NaN       92           92       92              92   \n",
       "12112          NaN       93           93       93              93   \n",
       "12113          NaN       94           94       94              94   \n",
       "12114          NaN       95           95       95              95   \n",
       "\n",
       "       Logical Reasoning  Computer Awareness  Courses  \\\n",
       "0                     84                  91  DIPLOMA   \n",
       "1                     83                  84  DIPLOMA   \n",
       "2                     81                  87  DIPLOMA   \n",
       "3                     87                  80  DIPLOMA   \n",
       "4                     83                  85  DIPLOMA   \n",
       "...                  ...                 ...      ...   \n",
       "12110                 91                  91  DIPLOMA   \n",
       "12111                 92                  92  DIPLOMA   \n",
       "12112                 93                  93  DIPLOMA   \n",
       "12113                 94                  94  DIPLOMA   \n",
       "12114                 95                  95  DIPLOMA   \n",
       "\n",
       "                                          Interest  \n",
       "0      Computer Science and Information Technology  \n",
       "1                        Mechanical and Electrical  \n",
       "2                    Electronics and Communication  \n",
       "3                          Construction and Design  \n",
       "4                 Hospitality and Event Management  \n",
       "...                                            ...  \n",
       "12110  Computer Science and Information Technology  \n",
       "12111  Computer Science and Information Technology  \n",
       "12112  Computer Science and Information Technology  \n",
       "12113  Computer Science and Information Technology  \n",
       "12114  Computer Science and Information Technology  \n",
       "\n",
       "[12115 rows x 9 columns]"
      ]
     },
     "execution_count": 4,
     "metadata": {},
     "output_type": "execute_result"
    }
   ],
   "source": [
    "career"
   ]
  },
  {
   "cell_type": "code",
   "execution_count": 5,
   "id": "17ec7de8",
   "metadata": {},
   "outputs": [],
   "source": [
    "from sklearn.preprocessing import LabelEncoder\n",
    "label_encoder = LabelEncoder()\n",
    "career['Courses'] = label_encoder.fit_transform(career['Courses'])\n",
    "x = np.array(career.iloc[:, 1:8])"
   ]
  },
  {
   "cell_type": "code",
   "execution_count": 6,
   "id": "1b11b62a",
   "metadata": {},
   "outputs": [
    {
     "data": {
      "text/plain": [
       "array([[77, 84, 82, ..., 84, 91,  0],\n",
       "       [75, 93, 85, ..., 83, 84,  0],\n",
       "       [78, 80, 85, ..., 81, 87,  0],\n",
       "       ...,\n",
       "       [93, 93, 93, ..., 93, 93,  0],\n",
       "       [94, 94, 94, ..., 94, 94,  0],\n",
       "       [95, 95, 95, ..., 95, 95,  0]], dtype=int64)"
      ]
     },
     "execution_count": 6,
     "metadata": {},
     "output_type": "execute_result"
    }
   ],
   "source": [
    "x"
   ]
  },
  {
   "cell_type": "code",
   "execution_count": 7,
   "id": "8055a4c0",
   "metadata": {},
   "outputs": [],
   "source": [
    "y = np.array(career.iloc[:, 8])"
   ]
  },
  {
   "cell_type": "code",
   "execution_count": 8,
   "id": "3eaa1463",
   "metadata": {},
   "outputs": [
    {
     "data": {
      "text/plain": [
       "array(['Computer Science and Information Technology',\n",
       "       'Mechanical and Electrical', 'Electronics and Communication', ...,\n",
       "       'Computer Science and Information Technology',\n",
       "       'Computer Science and Information Technology',\n",
       "       'Computer Science and Information Technology'], dtype=object)"
      ]
     },
     "execution_count": 8,
     "metadata": {},
     "output_type": "execute_result"
    }
   ],
   "source": [
    "y"
   ]
  },
  {
   "cell_type": "code",
   "execution_count": 9,
   "id": "38b1efbb",
   "metadata": {},
   "outputs": [
    {
     "data": {
      "text/plain": [
       "Index(['Student ID', 'English', 'Mathematics', 'Science', 'Social Studies',\n",
       "       'Logical Reasoning', 'Computer Awareness', 'Courses', 'Interest'],\n",
       "      dtype='object')"
      ]
     },
     "execution_count": 9,
     "metadata": {},
     "output_type": "execute_result"
    }
   ],
   "source": [
    "career.columns"
   ]
  },
  {
   "cell_type": "code",
   "execution_count": 10,
   "id": "84e0117e",
   "metadata": {},
   "outputs": [
    {
     "data": {
      "text/html": [
       "<div>\n",
       "<style scoped>\n",
       "    .dataframe tbody tr th:only-of-type {\n",
       "        vertical-align: middle;\n",
       "    }\n",
       "\n",
       "    .dataframe tbody tr th {\n",
       "        vertical-align: top;\n",
       "    }\n",
       "\n",
       "    .dataframe thead th {\n",
       "        text-align: right;\n",
       "    }\n",
       "</style>\n",
       "<table border=\"1\" class=\"dataframe\">\n",
       "  <thead>\n",
       "    <tr style=\"text-align: right;\">\n",
       "      <th></th>\n",
       "      <th>Student ID</th>\n",
       "      <th>English</th>\n",
       "      <th>Mathematics</th>\n",
       "      <th>Science</th>\n",
       "      <th>Social Studies</th>\n",
       "      <th>Logical Reasoning</th>\n",
       "      <th>Computer Awareness</th>\n",
       "      <th>Courses</th>\n",
       "      <th>Interest</th>\n",
       "    </tr>\n",
       "  </thead>\n",
       "  <tbody>\n",
       "    <tr>\n",
       "      <th>0</th>\n",
       "      <td>Student_1_1</td>\n",
       "      <td>77</td>\n",
       "      <td>84</td>\n",
       "      <td>82</td>\n",
       "      <td>78</td>\n",
       "      <td>84</td>\n",
       "      <td>91</td>\n",
       "      <td>0</td>\n",
       "      <td>Computer Science and Information Technology</td>\n",
       "    </tr>\n",
       "    <tr>\n",
       "      <th>1</th>\n",
       "      <td>Student_1_2</td>\n",
       "      <td>75</td>\n",
       "      <td>93</td>\n",
       "      <td>85</td>\n",
       "      <td>75</td>\n",
       "      <td>83</td>\n",
       "      <td>84</td>\n",
       "      <td>0</td>\n",
       "      <td>Mechanical and Electrical</td>\n",
       "    </tr>\n",
       "    <tr>\n",
       "      <th>2</th>\n",
       "      <td>Student_1_3</td>\n",
       "      <td>78</td>\n",
       "      <td>80</td>\n",
       "      <td>85</td>\n",
       "      <td>80</td>\n",
       "      <td>81</td>\n",
       "      <td>87</td>\n",
       "      <td>0</td>\n",
       "      <td>Electronics and Communication</td>\n",
       "    </tr>\n",
       "    <tr>\n",
       "      <th>3</th>\n",
       "      <td>Student_1_4</td>\n",
       "      <td>79</td>\n",
       "      <td>82</td>\n",
       "      <td>75</td>\n",
       "      <td>81</td>\n",
       "      <td>87</td>\n",
       "      <td>80</td>\n",
       "      <td>0</td>\n",
       "      <td>Construction and Design</td>\n",
       "    </tr>\n",
       "    <tr>\n",
       "      <th>4</th>\n",
       "      <td>Student_1_5</td>\n",
       "      <td>92</td>\n",
       "      <td>81</td>\n",
       "      <td>80</td>\n",
       "      <td>80</td>\n",
       "      <td>83</td>\n",
       "      <td>85</td>\n",
       "      <td>0</td>\n",
       "      <td>Hospitality and Event Management</td>\n",
       "    </tr>\n",
       "  </tbody>\n",
       "</table>\n",
       "</div>"
      ],
      "text/plain": [
       "    Student ID  English  Mathematics  Science  Social Studies  \\\n",
       "0  Student_1_1       77           84       82              78   \n",
       "1  Student_1_2       75           93       85              75   \n",
       "2  Student_1_3       78           80       85              80   \n",
       "3  Student_1_4       79           82       75              81   \n",
       "4  Student_1_5       92           81       80              80   \n",
       "\n",
       "   Logical Reasoning  Computer Awareness  Courses  \\\n",
       "0                 84                  91        0   \n",
       "1                 83                  84        0   \n",
       "2                 81                  87        0   \n",
       "3                 87                  80        0   \n",
       "4                 83                  85        0   \n",
       "\n",
       "                                      Interest  \n",
       "0  Computer Science and Information Technology  \n",
       "1                    Mechanical and Electrical  \n",
       "2                Electronics and Communication  \n",
       "3                      Construction and Design  \n",
       "4             Hospitality and Event Management  "
      ]
     },
     "execution_count": 10,
     "metadata": {},
     "output_type": "execute_result"
    }
   ],
   "source": [
    "career.head()"
   ]
  },
  {
   "cell_type": "code",
   "execution_count": 11,
   "id": "70e754f6",
   "metadata": {},
   "outputs": [],
   "source": [
    "from sklearn.model_selection import train_test_split \n",
    "x_train, x_test, y_train, y_test = train_test_split(x, y,test_size = 0.3, random_state = 1)"
   ]
  },
  {
   "cell_type": "code",
   "execution_count": 12,
   "id": "bb273637",
   "metadata": {},
   "outputs": [
    {
     "data": {
      "text/plain": [
       "array([[55, 60, 59, ..., 61, 59,  1],\n",
       "       [16,  5, 74, ...,  7,  4,  2],\n",
       "       [55, 57, 56, ..., 55, 55,  1],\n",
       "       ...,\n",
       "       [83, 81, 86, ..., 83, 77,  0],\n",
       "       [60, 73, 71, ..., 72, 69,  1],\n",
       "       [80, 87, 82, ..., 85, 85,  0]], dtype=int64)"
      ]
     },
     "execution_count": 12,
     "metadata": {},
     "output_type": "execute_result"
    }
   ],
   "source": [
    "x_train"
   ]
  },
  {
   "cell_type": "code",
   "execution_count": 13,
   "id": "c31e98a2",
   "metadata": {},
   "outputs": [
    {
     "name": "stdout",
     "output_type": "stream",
     "text": [
      "Accuracy= 82.9436038514443\n"
     ]
    }
   ],
   "source": [
    "from sklearn.neighbors import KNeighborsClassifier\n",
    "from sklearn import metrics\n",
    "scores = {}\n",
    "knn = KNeighborsClassifier(n_neighbors=9)\n",
    "\n",
    "knn.fit(x_train, y_train)\n",
    "y_pred = knn.predict(x_test)\n",
    "scores[5] = metrics.accuracy_score(y_test, y_pred)\n",
    "print('Accuracy=',scores[5]*100)"
   ]
  },
  {
   "cell_type": "code",
   "execution_count": null,
   "id": "975e1fa4",
   "metadata": {},
   "outputs": [],
   "source": []
  }
 ],
 "metadata": {
  "kernelspec": {
   "display_name": "Python 3 (ipykernel)",
   "language": "python",
   "name": "python3"
  },
  "language_info": {
   "codemirror_mode": {
    "name": "ipython",
    "version": 3
   },
   "file_extension": ".py",
   "mimetype": "text/x-python",
   "name": "python",
   "nbconvert_exporter": "python",
   "pygments_lexer": "ipython3",
   "version": "3.11.3"
  }
 },
 "nbformat": 4,
 "nbformat_minor": 5
}
