{
 "cells": [
  {
   "cell_type": "code",
   "execution_count": 60,
   "id": "17d6533e",
   "metadata": {},
   "outputs": [],
   "source": [
    "import random as rndm\n",
    "import pandas as pd\n",
    "import numpy as np\n",
    "data = pd.read_excel(r\"C:\\Users\\HP\\Documents\\GitHub\\minor-project\\Datasets\\english_questions.xlsx\")"
   ]
  },
  {
   "cell_type": "code",
   "execution_count": 61,
   "id": "da09d7e2",
   "metadata": {},
   "outputs": [],
   "source": [
    "data"
   ]
  },
  {
   "cell_type": "code",
   "execution_count": 57,
   "id": "23816e0f",
   "metadata": {},
   "outputs": [],
   "source": [
    "for x in range(5):\n",
    "    q=data.iloc[x,0]\n",
    "    print(q)\n",
    "    print(q)\n",
    "    a=data.iloc[x,1]\n",
    "    print(a)\n",
    "    b=data.iloc[x,2]\n",
    "    print(b)\n",
    "    c=data.iloc[x,3]\n",
    "    print(c)\n",
    "    d=data.iloc[x,4]\n",
    "    print(d)"
   ]
  },
  {
   "cell_type": "code",
   "execution_count": 58,
   "id": "1ebc761e",
   "metadata": {},
   "outputs": [],
   "source": [
    "english = []\n",
    "while(len(english)!=25):\n",
    "    r = rndm.randint(51)\n",
    "    if(r not in english):\n",
    "        english.append(r)\n",
    "    else:\n",
    "        continue\n",
    "print(english)\n",
    "for i in english:\n",
    "    q=data.iloc[x,0]\n",
    "    print(\"question \",i)\n",
    "    print(q)\n",
    "    a=data.iloc[x,1]\n",
    "    print(a)\n",
    "    b=data.iloc[x,2]\n",
    "    print(b)\n",
    "    c=data.iloc[x,3]\n",
    "    print(c)\n",
    "    d=data.iloc[x,4]\n",
    "    print(d)\n",
    "    print(\" \")"
   ]
  },
  {
   "cell_type": "code",
   "execution_count": null,
   "id": "eb73ab49",
   "metadata": {},
   "outputs": [],
   "source": [
    "###we will create a count variable which will be increment by clicking next button and get decremented by clicking back button and \n",
    "###print the questions according to value of count variable."
   ]
  },
  {
   "cell_type": "code",
   "execution_count": 59,
   "id": "f613826b",
   "metadata": {},
   "outputs": [],
   "source": [
    "ans=[]\n",
    "for i in english:\n",
    "    ans.append(data.iloc[i,5])\n",
    "print(english)\n",
    "print(ans)\n",
    "'''rsp=[]\n",
    "for i in range(25):\n",
    "    if(rsp[i]==)'''"
   ]
  },
  {
   "cell_type": "raw",
   "id": "7b193ca7",
   "metadata": {},
   "source": []
  }
 ],
 "metadata": {
  "kernelspec": {
   "display_name": "Python 3 (ipykernel)",
   "language": "python",
   "name": "python3"
  },
  "language_info": {
   "codemirror_mode": {
    "name": "ipython",
    "version": 3
   },
   "file_extension": ".py",
   "mimetype": "text/x-python",
   "name": "python",
   "nbconvert_exporter": "python",
   "pygments_lexer": "ipython3",
   "version": "3.11.3"
  }
 },
 "nbformat": 4,
 "nbformat_minor": 5
}
