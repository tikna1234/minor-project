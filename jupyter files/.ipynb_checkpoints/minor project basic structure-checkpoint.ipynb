{
 "cells": [
  {
   "cell_type": "code",
   "execution_count": 1,
   "id": "08da486d",
   "metadata": {},
   "outputs": [
    {
     "ename": "SystemExit",
     "evalue": "0",
     "output_type": "error",
     "traceback": [
      "An exception has occurred, use %tb to see the full traceback.\n",
      "\u001b[1;31mSystemExit\u001b[0m\u001b[1;31m:\u001b[0m 0\n"
     ]
    },
    {
     "name": "stderr",
     "output_type": "stream",
     "text": [
      "C:\\Users\\HP\\anaconda3\\Lib\\site-packages\\IPython\\core\\interactiveshell.py:3513: UserWarning: To exit: use 'exit', 'quit', or Ctrl-D.\n",
      "  warn(\"To exit: use 'exit', 'quit', or Ctrl-D.\", stacklevel=1)\n"
     ]
    }
   ],
   "source": [
    "#login page\n",
    "import sys\n",
    "from PyQt5 import QtCore, QtGui, QtWidgets\n",
    "class Ui_Dialog(object):\n",
    "    def setupUi(self,Dialog):\n",
    "        \n",
    "        Dialog.setObjectName(\"Dialog\")\n",
    "        Dialog.resize(500,500)\n",
    "        #username{\n",
    "        self.label = QtWidgets.QLabel(Dialog)\n",
    "        self.label.setGeometry(QtCore.QRect(50,50, 151, 30))\n",
    "        self.label.setText(\"username\")\n",
    "        self.txt1=QtWidgets.QLineEdit(Dialog)\n",
    "        self.txt1.setGeometry(QtCore.QRect(160,50,150,30))\n",
    "        self.txt1.setText(\"enter username\")\n",
    "        #}\n",
    "        #password{\n",
    "        self.label = QtWidgets.QLabel(Dialog)\n",
    "        self.label.setGeometry(QtCore.QRect(50,90, 151, 30))\n",
    "        self.label.setText(\"password\")\n",
    "        self.txt1=QtWidgets.QLineEdit(Dialog)\n",
    "        self.txt1.setGeometry(QtCore.QRect(160,90,150,30))\n",
    "        self.txt1.setText(\"enter password\")\n",
    "        #}\n",
    "        #login button{\n",
    "        self.loginButton = QtWidgets.QPushButton(Dialog)\n",
    "        self.loginButton.setGeometry(QtCore.QRect(100, 150, 90, 30))\n",
    "        #}\n",
    "        #Register{\n",
    "        self.registerButton = QtWidgets.QPushButton(Dialog)\n",
    "        self.registerButton.setGeometry(QtCore.QRect(250, 150, 90, 30))\n",
    "        #}\n",
    "        self.label = QtWidgets.QLabel(Dialog)\n",
    "        self.label.setGeometry(QtCore.QRect(200,200, 150, 30))\n",
    "        self.label.setText(\"\")\n",
    "        self.retranslateUi(Dialog)\n",
    "        QtCore.QMetaObject.connectSlotsByName(Dialog)\n",
    "        self.loginButton.clicked.connect(self.Login)\n",
    "    def retranslateUi(self,Dialog):\n",
    "        _translate=QtCore.QCoreApplication.translate\n",
    "        Dialog.setWindowTitle(_translate(\"Dialog\", \"Dialog\"))\n",
    "        self.loginButton.setText(_translate(\"Dialog\", \"Login\"))\n",
    "        self.registerButton.setText(_translate(\"Dialog\", \"Register\"))\n",
    "    def Login(self):\n",
    "        self.label.setText(\"login successful\")\n",
    "\n",
    "if __name__==\"__main__\":\n",
    "    app=QtWidgets.QApplication(sys.argv)\n",
    "    MainWindow=QtWidgets.QMainWindow()\n",
    "    ui=Ui_Dialog()\n",
    "    ui.setupUi(MainWindow)\n",
    "    MainWindow.show()\n",
    "    sys.exit(app.exec_())"
   ]
  },
  {
   "cell_type": "code",
   "execution_count": null,
   "id": "4bf1228a",
   "metadata": {},
   "outputs": [],
   "source": []
  },
  {
   "cell_type": "code",
   "execution_count": null,
   "id": "2a1b8ec5",
   "metadata": {},
   "outputs": [],
   "source": []
  }
 ],
 "metadata": {
  "kernelspec": {
   "display_name": "Python 3 (ipykernel)",
   "language": "python",
   "name": "python3"
  },
  "language_info": {
   "codemirror_mode": {
    "name": "ipython",
    "version": 3
   },
   "file_extension": ".py",
   "mimetype": "text/x-python",
   "name": "python",
   "nbconvert_exporter": "python",
   "pygments_lexer": "ipython3",
   "version": "3.11.3"
  }
 },
 "nbformat": 4,
 "nbformat_minor": 5
}
