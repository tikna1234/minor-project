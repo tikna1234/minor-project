{
 "cells": [
  {
   "cell_type": "code",
   "execution_count": null,
   "id": "13c5255d",
   "metadata": {},
   "outputs": [],
   "source": [
    "import pandas as pd\n",
    "import numpy as np\n",
    "import pickle\n",
    "career = pd.read_csv('dataset9000.data', header = None)\n",
    "#np.dtype('float64')\n",
    "\n",
    "X = np.array(career.iloc[:, 0:17]) #X is skills\n",
    "print(X)\n",
    "y = np.array(career.iloc[:, 17]) #Y is Roles\n",
    "print(\"hi\")\n",
    "print(y) \n",
    "\n",
    "##  attribute to return the column labels of the given Dataframe\n",
    "career.columns = [\"Database Fundamentals\",\"Computer Architecture\",\"Distributed Computing Systems\",\n",
    "\"Cyber Security\",\"Networking\",\"Development\",\"Programming Skills\",\"Project Management\",\n",
    "\"Computer Forensics Fundamentals\",\"Technical Communication\",\"AI ML\",\"Software Engineering\",\"Business Analysis\",\n",
    "\"Communication skills\",\"Data Science\",\"Troubleshooting skills\",\"Graphics Designing\",\"Roles\"]\n",
    "\n",
    "career.dropna(how ='all', inplace = True)\n",
    "#print(\"career.dropna(how ='all', inplace = True)\",career.dropna(how ='all', inplace = True))\n",
    "career.head()\n",
    "## splitting the data into training and test sets \n",
    "from sklearn.model_selection import train_test_split \n",
    "X_train, X_test, y_train, y_test = train_test_split(X, y,test_size = 0.3, random_state = 524)\n",
    "from sklearn.neighbors import KNeighborsClassifier\n",
    "from sklearn import metrics\n",
    "scores = {}\n",
    "knn = KNeighborsClassifier(n_neighbors=5)\n",
    "\n",
    "knn.fit(X_train, y_train)\n",
    "print('X_train',X_train)\n",
    "print('y_train',y_train)\n",
    "y_pred = knn.predict(X_test)\n",
    "print('y_pred',y_pred)\n",
    "scores[5] = metrics.accuracy_score(y_test, y_pred)\n",
    "print('Accuracy=',scores[5]*100)\n",
    "\n",
    "pickle.dump(knn, open('careerlast.pkl','wb'))\n",
    "print('test file created')"
   ]
  }
 ],
 "metadata": {
  "kernelspec": {
   "display_name": "Python 3 (ipykernel)",
   "language": "python",
   "name": "python3"
  },
  "language_info": {
   "codemirror_mode": {
    "name": "ipython",
    "version": 3
   },
   "file_extension": ".py",
   "mimetype": "text/x-python",
   "name": "python",
   "nbconvert_exporter": "python",
   "pygments_lexer": "ipython3",
   "version": "3.11.3"
  }
 },
 "nbformat": 4,
 "nbformat_minor": 5
}
